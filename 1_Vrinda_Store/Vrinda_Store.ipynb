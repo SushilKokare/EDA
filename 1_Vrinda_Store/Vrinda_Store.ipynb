{
 "cells": [
  {
   "cell_type": "code",
   "execution_count": 1,
   "metadata": {},
   "outputs": [],
   "source": [
    "import pandas as pd\n",
    "import numpy as np\n",
    "import seaborn as sns\n",
    "import matplotlib.pyplot as plt"
   ]
  },
  {
   "cell_type": "code",
   "execution_count": 2,
   "metadata": {},
   "outputs": [],
   "source": [
    "df = pd.read_excel('Vrinda Store Data Analysis.xlsx')"
   ]
  },
  {
   "cell_type": "code",
   "execution_count": 3,
   "metadata": {},
   "outputs": [
    {
     "data": {
      "text/plain": [
       "Index(['index', 'Order ID', 'Cust ID', 'Gender', 'Age', 'Date', 'Status',\n",
       "       'Channel ', 'SKU', 'Category', 'Size', 'Qty', 'currency', 'Amount',\n",
       "       'ship-city', 'ship-state', 'ship-postal-code', 'ship-country', 'B2B'],\n",
       "      dtype='object')"
      ]
     },
     "execution_count": 3,
     "metadata": {},
     "output_type": "execute_result"
    }
   ],
   "source": [
    "df.columns"
   ]
  },
  {
   "cell_type": "code",
   "execution_count": 4,
   "metadata": {},
   "outputs": [
    {
     "data": {
      "text/html": [
       "<div>\n",
       "<style scoped>\n",
       "    .dataframe tbody tr th:only-of-type {\n",
       "        vertical-align: middle;\n",
       "    }\n",
       "\n",
       "    .dataframe tbody tr th {\n",
       "        vertical-align: top;\n",
       "    }\n",
       "\n",
       "    .dataframe thead th {\n",
       "        text-align: right;\n",
       "    }\n",
       "</style>\n",
       "<table border=\"1\" class=\"dataframe\">\n",
       "  <thead>\n",
       "    <tr style=\"text-align: right;\">\n",
       "      <th></th>\n",
       "      <th>index</th>\n",
       "      <th>Order ID</th>\n",
       "      <th>Cust ID</th>\n",
       "      <th>Gender</th>\n",
       "      <th>Age</th>\n",
       "      <th>Date</th>\n",
       "      <th>Status</th>\n",
       "      <th>Channel</th>\n",
       "      <th>SKU</th>\n",
       "      <th>Category</th>\n",
       "      <th>Size</th>\n",
       "      <th>Qty</th>\n",
       "      <th>currency</th>\n",
       "      <th>Amount</th>\n",
       "      <th>ship-city</th>\n",
       "      <th>ship-state</th>\n",
       "      <th>ship-postal-code</th>\n",
       "      <th>ship-country</th>\n",
       "      <th>B2B</th>\n",
       "    </tr>\n",
       "  </thead>\n",
       "  <tbody>\n",
       "    <tr>\n",
       "      <th>0</th>\n",
       "      <td>1</td>\n",
       "      <td>171-1029312-3038738</td>\n",
       "      <td>1029312</td>\n",
       "      <td>Women</td>\n",
       "      <td>44</td>\n",
       "      <td>2022-12-04</td>\n",
       "      <td>Delivered</td>\n",
       "      <td>Myntra</td>\n",
       "      <td>JNE1233-BLUE-KR-031-XXL</td>\n",
       "      <td>kurta</td>\n",
       "      <td>XXL</td>\n",
       "      <td>1</td>\n",
       "      <td>INR</td>\n",
       "      <td>376</td>\n",
       "      <td>MOHALI</td>\n",
       "      <td>PUNJAB</td>\n",
       "      <td>140301</td>\n",
       "      <td>IN</td>\n",
       "      <td>False</td>\n",
       "    </tr>\n",
       "    <tr>\n",
       "      <th>1</th>\n",
       "      <td>2</td>\n",
       "      <td>405-2183842-2225946</td>\n",
       "      <td>2183842</td>\n",
       "      <td>Women</td>\n",
       "      <td>29</td>\n",
       "      <td>2022-12-04</td>\n",
       "      <td>Delivered</td>\n",
       "      <td>Ajio</td>\n",
       "      <td>SET414-KR-NP-L</td>\n",
       "      <td>Set</td>\n",
       "      <td>L</td>\n",
       "      <td>1</td>\n",
       "      <td>INR</td>\n",
       "      <td>1449</td>\n",
       "      <td>GURUGRAM</td>\n",
       "      <td>HARYANA</td>\n",
       "      <td>122002</td>\n",
       "      <td>IN</td>\n",
       "      <td>False</td>\n",
       "    </tr>\n",
       "    <tr>\n",
       "      <th>2</th>\n",
       "      <td>3</td>\n",
       "      <td>171-1641533-8921966</td>\n",
       "      <td>1641533</td>\n",
       "      <td>Women</td>\n",
       "      <td>67</td>\n",
       "      <td>2022-12-04</td>\n",
       "      <td>Delivered</td>\n",
       "      <td>Myntra</td>\n",
       "      <td>SET261-KR-PP-S</td>\n",
       "      <td>Set</td>\n",
       "      <td>S</td>\n",
       "      <td>1</td>\n",
       "      <td>INR</td>\n",
       "      <td>453</td>\n",
       "      <td>KOLKATA</td>\n",
       "      <td>WEST BENGAL</td>\n",
       "      <td>700029</td>\n",
       "      <td>IN</td>\n",
       "      <td>False</td>\n",
       "    </tr>\n",
       "    <tr>\n",
       "      <th>3</th>\n",
       "      <td>4</td>\n",
       "      <td>404-7490807-6300351</td>\n",
       "      <td>7490807</td>\n",
       "      <td>Women</td>\n",
       "      <td>20</td>\n",
       "      <td>2022-12-04</td>\n",
       "      <td>Delivered</td>\n",
       "      <td>Amazon</td>\n",
       "      <td>SET110-KR-PP-M</td>\n",
       "      <td>Set</td>\n",
       "      <td>M</td>\n",
       "      <td>1</td>\n",
       "      <td>INR</td>\n",
       "      <td>729</td>\n",
       "      <td>THANJAVUR</td>\n",
       "      <td>TAMIL NADU</td>\n",
       "      <td>613007</td>\n",
       "      <td>IN</td>\n",
       "      <td>False</td>\n",
       "    </tr>\n",
       "    <tr>\n",
       "      <th>4</th>\n",
       "      <td>5</td>\n",
       "      <td>403-9293516-4577154</td>\n",
       "      <td>9293516</td>\n",
       "      <td>Women</td>\n",
       "      <td>62</td>\n",
       "      <td>2022-12-04</td>\n",
       "      <td>Delivered</td>\n",
       "      <td>Myntra</td>\n",
       "      <td>JNE2294-KR-A-XXL</td>\n",
       "      <td>kurta</td>\n",
       "      <td>XXL</td>\n",
       "      <td>1</td>\n",
       "      <td>INR</td>\n",
       "      <td>544</td>\n",
       "      <td>GURUGRAM</td>\n",
       "      <td>HARYANA</td>\n",
       "      <td>122001</td>\n",
       "      <td>IN</td>\n",
       "      <td>False</td>\n",
       "    </tr>\n",
       "  </tbody>\n",
       "</table>\n",
       "</div>"
      ],
      "text/plain": [
       "   index             Order ID  Cust ID Gender  Age       Date     Status  \\\n",
       "0      1  171-1029312-3038738  1029312  Women   44 2022-12-04  Delivered   \n",
       "1      2  405-2183842-2225946  2183842  Women   29 2022-12-04  Delivered   \n",
       "2      3  171-1641533-8921966  1641533  Women   67 2022-12-04  Delivered   \n",
       "3      4  404-7490807-6300351  7490807  Women   20 2022-12-04  Delivered   \n",
       "4      5  403-9293516-4577154  9293516  Women   62 2022-12-04  Delivered   \n",
       "\n",
       "  Channel                       SKU Category Size Qty currency  Amount  \\\n",
       "0   Myntra  JNE1233-BLUE-KR-031-XXL    kurta  XXL   1      INR     376   \n",
       "1     Ajio           SET414-KR-NP-L      Set    L   1      INR    1449   \n",
       "2   Myntra           SET261-KR-PP-S      Set    S   1      INR     453   \n",
       "3   Amazon           SET110-KR-PP-M      Set    M   1      INR     729   \n",
       "4   Myntra         JNE2294-KR-A-XXL    kurta  XXL   1      INR     544   \n",
       "\n",
       "   ship-city   ship-state  ship-postal-code ship-country    B2B  \n",
       "0     MOHALI       PUNJAB            140301           IN  False  \n",
       "1   GURUGRAM      HARYANA            122002           IN  False  \n",
       "2    KOLKATA  WEST BENGAL            700029           IN  False  \n",
       "3  THANJAVUR   TAMIL NADU            613007           IN  False  \n",
       "4   GURUGRAM      HARYANA            122001           IN  False  "
      ]
     },
     "execution_count": 4,
     "metadata": {},
     "output_type": "execute_result"
    }
   ],
   "source": [
    "df.head()"
   ]
  },
  {
   "cell_type": "code",
   "execution_count": 5,
   "metadata": {},
   "outputs": [
    {
     "name": "stdout",
     "output_type": "stream",
     "text": [
      "<class 'pandas.core.frame.DataFrame'>\n",
      "RangeIndex: 31047 entries, 0 to 31046\n",
      "Data columns (total 19 columns):\n",
      " #   Column            Non-Null Count  Dtype         \n",
      "---  ------            --------------  -----         \n",
      " 0   index             31047 non-null  int64         \n",
      " 1   Order ID          31047 non-null  object        \n",
      " 2   Cust ID           31047 non-null  int64         \n",
      " 3   Gender            31047 non-null  object        \n",
      " 4   Age               31047 non-null  int64         \n",
      " 5   Date              31047 non-null  datetime64[ns]\n",
      " 6   Status            31047 non-null  object        \n",
      " 7   Channel           31047 non-null  object        \n",
      " 8   SKU               31047 non-null  object        \n",
      " 9   Category          31047 non-null  object        \n",
      " 10  Size              31047 non-null  object        \n",
      " 11  Qty               31047 non-null  object        \n",
      " 12  currency          31047 non-null  object        \n",
      " 13  Amount            31047 non-null  int64         \n",
      " 14  ship-city         31047 non-null  object        \n",
      " 15  ship-state        31047 non-null  object        \n",
      " 16  ship-postal-code  31047 non-null  int64         \n",
      " 17  ship-country      31047 non-null  object        \n",
      " 18  B2B               31047 non-null  bool          \n",
      "dtypes: bool(1), datetime64[ns](1), int64(5), object(12)\n",
      "memory usage: 2.9+ MB\n"
     ]
    }
   ],
   "source": [
    "df.info()"
   ]
  },
  {
   "cell_type": "code",
   "execution_count": null,
   "metadata": {},
   "outputs": [],
   "source": []
  },
  {
   "cell_type": "markdown",
   "metadata": {},
   "source": [
    "## Preprocessing"
   ]
  },
  {
   "cell_type": "code",
   "execution_count": 6,
   "metadata": {},
   "outputs": [],
   "source": [
    "df['index'] = df['index'].astype('str')\n",
    "df['Cust ID'] = df['Cust ID'].astype('str')\n",
    "df['ship-postal-code'] = df['ship-postal-code'].astype('str')"
   ]
  },
  {
   "cell_type": "code",
   "execution_count": 7,
   "metadata": {},
   "outputs": [
    {
     "data": {
      "text/html": [
       "<div>\n",
       "<style scoped>\n",
       "    .dataframe tbody tr th:only-of-type {\n",
       "        vertical-align: middle;\n",
       "    }\n",
       "\n",
       "    .dataframe tbody tr th {\n",
       "        vertical-align: top;\n",
       "    }\n",
       "\n",
       "    .dataframe thead th {\n",
       "        text-align: right;\n",
       "    }\n",
       "</style>\n",
       "<table border=\"1\" class=\"dataframe\">\n",
       "  <thead>\n",
       "    <tr style=\"text-align: right;\">\n",
       "      <th></th>\n",
       "      <th>Age</th>\n",
       "      <th>Amount</th>\n",
       "    </tr>\n",
       "  </thead>\n",
       "  <tbody>\n",
       "    <tr>\n",
       "      <th>count</th>\n",
       "      <td>31047.000000</td>\n",
       "      <td>31047.000000</td>\n",
       "    </tr>\n",
       "    <tr>\n",
       "      <th>mean</th>\n",
       "      <td>39.496570</td>\n",
       "      <td>682.074822</td>\n",
       "    </tr>\n",
       "    <tr>\n",
       "      <th>std</th>\n",
       "      <td>15.117233</td>\n",
       "      <td>268.582173</td>\n",
       "    </tr>\n",
       "    <tr>\n",
       "      <th>min</th>\n",
       "      <td>18.000000</td>\n",
       "      <td>229.000000</td>\n",
       "    </tr>\n",
       "    <tr>\n",
       "      <th>25%</th>\n",
       "      <td>28.000000</td>\n",
       "      <td>486.000000</td>\n",
       "    </tr>\n",
       "    <tr>\n",
       "      <th>50%</th>\n",
       "      <td>37.000000</td>\n",
       "      <td>646.000000</td>\n",
       "    </tr>\n",
       "    <tr>\n",
       "      <th>75%</th>\n",
       "      <td>47.000000</td>\n",
       "      <td>794.000000</td>\n",
       "    </tr>\n",
       "    <tr>\n",
       "      <th>max</th>\n",
       "      <td>78.000000</td>\n",
       "      <td>3036.000000</td>\n",
       "    </tr>\n",
       "  </tbody>\n",
       "</table>\n",
       "</div>"
      ],
      "text/plain": [
       "                Age        Amount\n",
       "count  31047.000000  31047.000000\n",
       "mean      39.496570    682.074822\n",
       "std       15.117233    268.582173\n",
       "min       18.000000    229.000000\n",
       "25%       28.000000    486.000000\n",
       "50%       37.000000    646.000000\n",
       "75%       47.000000    794.000000\n",
       "max       78.000000   3036.000000"
      ]
     },
     "execution_count": 7,
     "metadata": {},
     "output_type": "execute_result"
    }
   ],
   "source": [
    "df.describe()"
   ]
  },
  {
   "cell_type": "code",
   "execution_count": 8,
   "metadata": {},
   "outputs": [
    {
     "data": {
      "text/plain": [
       "index               0\n",
       "Order ID            0\n",
       "Cust ID             0\n",
       "Gender              0\n",
       "Age                 0\n",
       "Date                0\n",
       "Status              0\n",
       "Channel             0\n",
       "SKU                 0\n",
       "Category            0\n",
       "Size                0\n",
       "Qty                 0\n",
       "currency            0\n",
       "Amount              0\n",
       "ship-city           0\n",
       "ship-state          0\n",
       "ship-postal-code    0\n",
       "ship-country        0\n",
       "B2B                 0\n",
       "dtype: int64"
      ]
     },
     "execution_count": 8,
     "metadata": {},
     "output_type": "execute_result"
    }
   ],
   "source": [
    "df.isna().sum()"
   ]
  },
  {
   "cell_type": "code",
   "execution_count": 9,
   "metadata": {},
   "outputs": [
    {
     "data": {
      "text/plain": [
       "0"
      ]
     },
     "execution_count": 9,
     "metadata": {},
     "output_type": "execute_result"
    }
   ],
   "source": [
    "df.duplicated().sum()"
   ]
  },
  {
   "cell_type": "code",
   "execution_count": 10,
   "metadata": {},
   "outputs": [
    {
     "data": {
      "text/html": [
       "<div>\n",
       "<style scoped>\n",
       "    .dataframe tbody tr th:only-of-type {\n",
       "        vertical-align: middle;\n",
       "    }\n",
       "\n",
       "    .dataframe tbody tr th {\n",
       "        vertical-align: top;\n",
       "    }\n",
       "\n",
       "    .dataframe thead th {\n",
       "        text-align: right;\n",
       "    }\n",
       "</style>\n",
       "<table border=\"1\" class=\"dataframe\">\n",
       "  <thead>\n",
       "    <tr style=\"text-align: right;\">\n",
       "      <th></th>\n",
       "      <th>index</th>\n",
       "      <th>Order ID</th>\n",
       "      <th>Cust ID</th>\n",
       "      <th>Gender</th>\n",
       "      <th>Age</th>\n",
       "      <th>Date</th>\n",
       "      <th>Status</th>\n",
       "      <th>Channel</th>\n",
       "      <th>SKU</th>\n",
       "      <th>Category</th>\n",
       "      <th>Size</th>\n",
       "      <th>Qty</th>\n",
       "      <th>currency</th>\n",
       "      <th>Amount</th>\n",
       "      <th>ship-city</th>\n",
       "      <th>ship-state</th>\n",
       "      <th>ship-postal-code</th>\n",
       "      <th>ship-country</th>\n",
       "      <th>B2B</th>\n",
       "    </tr>\n",
       "  </thead>\n",
       "  <tbody>\n",
       "    <tr>\n",
       "      <th>0</th>\n",
       "      <td>1</td>\n",
       "      <td>171-1029312-3038738</td>\n",
       "      <td>1029312</td>\n",
       "      <td>Women</td>\n",
       "      <td>44</td>\n",
       "      <td>2022-12-04</td>\n",
       "      <td>Delivered</td>\n",
       "      <td>Myntra</td>\n",
       "      <td>JNE1233-BLUE-KR-031-XXL</td>\n",
       "      <td>kurta</td>\n",
       "      <td>XXL</td>\n",
       "      <td>1</td>\n",
       "      <td>INR</td>\n",
       "      <td>376</td>\n",
       "      <td>MOHALI</td>\n",
       "      <td>PUNJAB</td>\n",
       "      <td>140301</td>\n",
       "      <td>IN</td>\n",
       "      <td>False</td>\n",
       "    </tr>\n",
       "    <tr>\n",
       "      <th>1</th>\n",
       "      <td>2</td>\n",
       "      <td>405-2183842-2225946</td>\n",
       "      <td>2183842</td>\n",
       "      <td>Women</td>\n",
       "      <td>29</td>\n",
       "      <td>2022-12-04</td>\n",
       "      <td>Delivered</td>\n",
       "      <td>Ajio</td>\n",
       "      <td>SET414-KR-NP-L</td>\n",
       "      <td>Set</td>\n",
       "      <td>L</td>\n",
       "      <td>1</td>\n",
       "      <td>INR</td>\n",
       "      <td>1449</td>\n",
       "      <td>GURUGRAM</td>\n",
       "      <td>HARYANA</td>\n",
       "      <td>122002</td>\n",
       "      <td>IN</td>\n",
       "      <td>False</td>\n",
       "    </tr>\n",
       "    <tr>\n",
       "      <th>2</th>\n",
       "      <td>3</td>\n",
       "      <td>171-1641533-8921966</td>\n",
       "      <td>1641533</td>\n",
       "      <td>Women</td>\n",
       "      <td>67</td>\n",
       "      <td>2022-12-04</td>\n",
       "      <td>Delivered</td>\n",
       "      <td>Myntra</td>\n",
       "      <td>SET261-KR-PP-S</td>\n",
       "      <td>Set</td>\n",
       "      <td>S</td>\n",
       "      <td>1</td>\n",
       "      <td>INR</td>\n",
       "      <td>453</td>\n",
       "      <td>KOLKATA</td>\n",
       "      <td>WEST BENGAL</td>\n",
       "      <td>700029</td>\n",
       "      <td>IN</td>\n",
       "      <td>False</td>\n",
       "    </tr>\n",
       "    <tr>\n",
       "      <th>3</th>\n",
       "      <td>4</td>\n",
       "      <td>404-7490807-6300351</td>\n",
       "      <td>7490807</td>\n",
       "      <td>Women</td>\n",
       "      <td>20</td>\n",
       "      <td>2022-12-04</td>\n",
       "      <td>Delivered</td>\n",
       "      <td>Amazon</td>\n",
       "      <td>SET110-KR-PP-M</td>\n",
       "      <td>Set</td>\n",
       "      <td>M</td>\n",
       "      <td>1</td>\n",
       "      <td>INR</td>\n",
       "      <td>729</td>\n",
       "      <td>THANJAVUR</td>\n",
       "      <td>TAMIL NADU</td>\n",
       "      <td>613007</td>\n",
       "      <td>IN</td>\n",
       "      <td>False</td>\n",
       "    </tr>\n",
       "    <tr>\n",
       "      <th>4</th>\n",
       "      <td>5</td>\n",
       "      <td>403-9293516-4577154</td>\n",
       "      <td>9293516</td>\n",
       "      <td>Women</td>\n",
       "      <td>62</td>\n",
       "      <td>2022-12-04</td>\n",
       "      <td>Delivered</td>\n",
       "      <td>Myntra</td>\n",
       "      <td>JNE2294-KR-A-XXL</td>\n",
       "      <td>kurta</td>\n",
       "      <td>XXL</td>\n",
       "      <td>1</td>\n",
       "      <td>INR</td>\n",
       "      <td>544</td>\n",
       "      <td>GURUGRAM</td>\n",
       "      <td>HARYANA</td>\n",
       "      <td>122001</td>\n",
       "      <td>IN</td>\n",
       "      <td>False</td>\n",
       "    </tr>\n",
       "  </tbody>\n",
       "</table>\n",
       "</div>"
      ],
      "text/plain": [
       "  index             Order ID  Cust ID Gender  Age       Date     Status  \\\n",
       "0     1  171-1029312-3038738  1029312  Women   44 2022-12-04  Delivered   \n",
       "1     2  405-2183842-2225946  2183842  Women   29 2022-12-04  Delivered   \n",
       "2     3  171-1641533-8921966  1641533  Women   67 2022-12-04  Delivered   \n",
       "3     4  404-7490807-6300351  7490807  Women   20 2022-12-04  Delivered   \n",
       "4     5  403-9293516-4577154  9293516  Women   62 2022-12-04  Delivered   \n",
       "\n",
       "  Channel                       SKU Category Size Qty currency  Amount  \\\n",
       "0   Myntra  JNE1233-BLUE-KR-031-XXL    kurta  XXL   1      INR     376   \n",
       "1     Ajio           SET414-KR-NP-L      Set    L   1      INR    1449   \n",
       "2   Myntra           SET261-KR-PP-S      Set    S   1      INR     453   \n",
       "3   Amazon           SET110-KR-PP-M      Set    M   1      INR     729   \n",
       "4   Myntra         JNE2294-KR-A-XXL    kurta  XXL   1      INR     544   \n",
       "\n",
       "   ship-city   ship-state ship-postal-code ship-country    B2B  \n",
       "0     MOHALI       PUNJAB           140301           IN  False  \n",
       "1   GURUGRAM      HARYANA           122002           IN  False  \n",
       "2    KOLKATA  WEST BENGAL           700029           IN  False  \n",
       "3  THANJAVUR   TAMIL NADU           613007           IN  False  \n",
       "4   GURUGRAM      HARYANA           122001           IN  False  "
      ]
     },
     "execution_count": 10,
     "metadata": {},
     "output_type": "execute_result"
    }
   ],
   "source": [
    "df.head()"
   ]
  },
  {
   "cell_type": "markdown",
   "metadata": {},
   "source": [
    "### Gender Column"
   ]
  },
  {
   "cell_type": "code",
   "execution_count": 11,
   "metadata": {},
   "outputs": [
    {
     "data": {
      "text/plain": [
       "Women    21479\n",
       "Men       9452\n",
       "W           74\n",
       "M           42\n",
       "Name: Gender, dtype: int64"
      ]
     },
     "execution_count": 11,
     "metadata": {},
     "output_type": "execute_result"
    }
   ],
   "source": [
    "df['Gender'].value_counts()"
   ]
  },
  {
   "cell_type": "code",
   "execution_count": 12,
   "metadata": {},
   "outputs": [],
   "source": [
    "df['Gender'] = np.where(df['Gender']=='W','Women',np.where(df['Gender']=='M','Men',df['Gender']))"
   ]
  },
  {
   "cell_type": "code",
   "execution_count": 13,
   "metadata": {},
   "outputs": [
    {
     "data": {
      "text/plain": [
       "Women    21553\n",
       "Men       9494\n",
       "Name: Gender, dtype: int64"
      ]
     },
     "execution_count": 13,
     "metadata": {},
     "output_type": "execute_result"
    }
   ],
   "source": [
    "df['Gender'].value_counts()"
   ]
  },
  {
   "cell_type": "code",
   "execution_count": 14,
   "metadata": {},
   "outputs": [
    {
     "data": {
      "text/plain": [
       "21553"
      ]
     },
     "execution_count": 14,
     "metadata": {},
     "output_type": "execute_result"
    }
   ],
   "source": [
    "21479+74"
   ]
  },
  {
   "cell_type": "code",
   "execution_count": 15,
   "metadata": {},
   "outputs": [
    {
     "data": {
      "text/plain": [
       "9494"
      ]
     },
     "execution_count": 15,
     "metadata": {},
     "output_type": "execute_result"
    }
   ],
   "source": [
    "9452+42"
   ]
  },
  {
   "cell_type": "markdown",
   "metadata": {},
   "source": [
    "\n",
    "### Age Column"
   ]
  },
  {
   "cell_type": "code",
   "execution_count": 16,
   "metadata": {},
   "outputs": [
    {
     "data": {
      "text/plain": [
       "<AxesSubplot:ylabel='Age'>"
      ]
     },
     "execution_count": 16,
     "metadata": {},
     "output_type": "execute_result"
    },
    {
     "data": {
      "image/png": "[encoded data removed]",
      "text/plain": [
       "<Figure size 432x288 with 1 Axes>"
      ]
     },
     "metadata": {
      "needs_background": "light"
     },
     "output_type": "display_data"
    }
   ],
   "source": [
    "sns.boxplot(y=df['Age'])"
   ]
  },
  {
   "cell_type": "code",
   "execution_count": 17,
   "metadata": {},
   "outputs": [
    {
     "data": {
      "text/plain": [
       "<AxesSubplot:ylabel='Age'>"
      ]
     },
     "execution_count": 17,
     "metadata": {},
     "output_type": "execute_result"
    },
    {
     "data": {
      "image/png": "[encoded data removed]",
      "text/plain": [
       "<Figure size 432x288 with 1 Axes>"
      ]
     },
     "metadata": {
      "needs_background": "light"
     },
     "output_type": "display_data"
    }
   ],
   "source": [
    "sns.violinplot(y=df['Age'])"
   ]
  },
  {
   "cell_type": "markdown",
   "metadata": {},
   "source": [
    "### Date Column"
   ]
  },
  {
   "cell_type": "code",
   "execution_count": 18,
   "metadata": {},
   "outputs": [
    {
     "data": {
      "text/html": [
       "<div>\n",
       "<style scoped>\n",
       "    .dataframe tbody tr th:only-of-type {\n",
       "        vertical-align: middle;\n",
       "    }\n",
       "\n",
       "    .dataframe tbody tr th {\n",
       "        vertical-align: top;\n",
       "    }\n",
       "\n",
       "    .dataframe thead th {\n",
       "        text-align: right;\n",
       "    }\n",
       "</style>\n",
       "<table border=\"1\" class=\"dataframe\">\n",
       "  <thead>\n",
       "    <tr style=\"text-align: right;\">\n",
       "      <th></th>\n",
       "      <th>index</th>\n",
       "      <th>Order ID</th>\n",
       "      <th>Cust ID</th>\n",
       "      <th>Gender</th>\n",
       "      <th>Age</th>\n",
       "      <th>Date</th>\n",
       "      <th>Status</th>\n",
       "      <th>Channel</th>\n",
       "      <th>SKU</th>\n",
       "      <th>Category</th>\n",
       "      <th>Size</th>\n",
       "      <th>Qty</th>\n",
       "      <th>currency</th>\n",
       "      <th>Amount</th>\n",
       "      <th>ship-city</th>\n",
       "      <th>ship-state</th>\n",
       "      <th>ship-postal-code</th>\n",
       "      <th>ship-country</th>\n",
       "      <th>B2B</th>\n",
       "    </tr>\n",
       "  </thead>\n",
       "  <tbody>\n",
       "    <tr>\n",
       "      <th>0</th>\n",
       "      <td>1</td>\n",
       "      <td>171-1029312-3038738</td>\n",
       "      <td>1029312</td>\n",
       "      <td>Women</td>\n",
       "      <td>44</td>\n",
       "      <td>2022-12-04</td>\n",
       "      <td>Delivered</td>\n",
       "      <td>Myntra</td>\n",
       "      <td>JNE1233-BLUE-KR-031-XXL</td>\n",
       "      <td>kurta</td>\n",
       "      <td>XXL</td>\n",
       "      <td>1</td>\n",
       "      <td>INR</td>\n",
       "      <td>376</td>\n",
       "      <td>MOHALI</td>\n",
       "      <td>PUNJAB</td>\n",
       "      <td>140301</td>\n",
       "      <td>IN</td>\n",
       "      <td>False</td>\n",
       "    </tr>\n",
       "    <tr>\n",
       "      <th>1</th>\n",
       "      <td>2</td>\n",
       "      <td>405-2183842-2225946</td>\n",
       "      <td>2183842</td>\n",
       "      <td>Women</td>\n",
       "      <td>29</td>\n",
       "      <td>2022-12-04</td>\n",
       "      <td>Delivered</td>\n",
       "      <td>Ajio</td>\n",
       "      <td>SET414-KR-NP-L</td>\n",
       "      <td>Set</td>\n",
       "      <td>L</td>\n",
       "      <td>1</td>\n",
       "      <td>INR</td>\n",
       "      <td>1449</td>\n",
       "      <td>GURUGRAM</td>\n",
       "      <td>HARYANA</td>\n",
       "      <td>122002</td>\n",
       "      <td>IN</td>\n",
       "      <td>False</td>\n",
       "    </tr>\n",
       "  </tbody>\n",
       "</table>\n",
       "</div>"
      ],
      "text/plain": [
       "  index             Order ID  Cust ID Gender  Age       Date     Status  \\\n",
       "0     1  171-1029312-3038738  1029312  Women   44 2022-12-04  Delivered   \n",
       "1     2  405-2183842-2225946  2183842  Women   29 2022-12-04  Delivered   \n",
       "\n",
       "  Channel                       SKU Category Size Qty currency  Amount  \\\n",
       "0   Myntra  JNE1233-BLUE-KR-031-XXL    kurta  XXL   1      INR     376   \n",
       "1     Ajio           SET414-KR-NP-L      Set    L   1      INR    1449   \n",
       "\n",
       "  ship-city ship-state ship-postal-code ship-country    B2B  \n",
       "0    MOHALI     PUNJAB           140301           IN  False  \n",
       "1  GURUGRAM    HARYANA           122002           IN  False  "
      ]
     },
     "execution_count": 18,
     "metadata": {},
     "output_type": "execute_result"
    }
   ],
   "source": [
    "df.head(2)"
   ]
  },
  {
   "cell_type": "code",
   "execution_count": 19,
   "metadata": {},
   "outputs": [],
   "source": [
    "df['Year'] = df['Date'].dt.year\n",
    "df['Month'] = df['Date'].dt.month"
   ]
  },
  {
   "cell_type": "code",
   "execution_count": 20,
   "metadata": {},
   "outputs": [
    {
     "data": {
      "text/html": [
       "<div>\n",
       "<style scoped>\n",
       "    .dataframe tbody tr th:only-of-type {\n",
       "        vertical-align: middle;\n",
       "    }\n",
       "\n",
       "    .dataframe tbody tr th {\n",
       "        vertical-align: top;\n",
       "    }\n",
       "\n",
       "    .dataframe thead th {\n",
       "        text-align: right;\n",
       "    }\n",
       "</style>\n",
       "<table border=\"1\" class=\"dataframe\">\n",
       "  <thead>\n",
       "    <tr style=\"text-align: right;\">\n",
       "      <th></th>\n",
       "      <th>index</th>\n",
       "      <th>Order ID</th>\n",
       "      <th>Cust ID</th>\n",
       "      <th>Gender</th>\n",
       "      <th>Age</th>\n",
       "      <th>Date</th>\n",
       "      <th>Status</th>\n",
       "      <th>Channel</th>\n",
       "      <th>SKU</th>\n",
       "      <th>Category</th>\n",
       "      <th>...</th>\n",
       "      <th>Qty</th>\n",
       "      <th>currency</th>\n",
       "      <th>Amount</th>\n",
       "      <th>ship-city</th>\n",
       "      <th>ship-state</th>\n",
       "      <th>ship-postal-code</th>\n",
       "      <th>ship-country</th>\n",
       "      <th>B2B</th>\n",
       "      <th>Year</th>\n",
       "      <th>Month</th>\n",
       "    </tr>\n",
       "  </thead>\n",
       "  <tbody>\n",
       "    <tr>\n",
       "      <th>0</th>\n",
       "      <td>1</td>\n",
       "      <td>171-1029312-3038738</td>\n",
       "      <td>1029312</td>\n",
       "      <td>Women</td>\n",
       "      <td>44</td>\n",
       "      <td>2022-12-04</td>\n",
       "      <td>Delivered</td>\n",
       "      <td>Myntra</td>\n",
       "      <td>JNE1233-BLUE-KR-031-XXL</td>\n",
       "      <td>kurta</td>\n",
       "      <td>...</td>\n",
       "      <td>1</td>\n",
       "      <td>INR</td>\n",
       "      <td>376</td>\n",
       "      <td>MOHALI</td>\n",
       "      <td>PUNJAB</td>\n",
       "      <td>140301</td>\n",
       "      <td>IN</td>\n",
       "      <td>False</td>\n",
       "      <td>2022</td>\n",
       "      <td>12</td>\n",
       "    </tr>\n",
       "    <tr>\n",
       "      <th>1</th>\n",
       "      <td>2</td>\n",
       "      <td>405-2183842-2225946</td>\n",
       "      <td>2183842</td>\n",
       "      <td>Women</td>\n",
       "      <td>29</td>\n",
       "      <td>2022-12-04</td>\n",
       "      <td>Delivered</td>\n",
       "      <td>Ajio</td>\n",
       "      <td>SET414-KR-NP-L</td>\n",
       "      <td>Set</td>\n",
       "      <td>...</td>\n",
       "      <td>1</td>\n",
       "      <td>INR</td>\n",
       "      <td>1449</td>\n",
       "      <td>GURUGRAM</td>\n",
       "      <td>HARYANA</td>\n",
       "      <td>122002</td>\n",
       "      <td>IN</td>\n",
       "      <td>False</td>\n",
       "      <td>2022</td>\n",
       "      <td>12</td>\n",
       "    </tr>\n",
       "  </tbody>\n",
       "</table>\n",
       "<p>2 rows × 21 columns</p>\n",
       "</div>"
      ],
      "text/plain": [
       "  index             Order ID  Cust ID Gender  Age       Date     Status  \\\n",
       "0     1  171-1029312-3038738  1029312  Women   44 2022-12-04  Delivered   \n",
       "1     2  405-2183842-2225946  2183842  Women   29 2022-12-04  Delivered   \n",
       "\n",
       "  Channel                       SKU Category  ... Qty currency Amount  \\\n",
       "0   Myntra  JNE1233-BLUE-KR-031-XXL    kurta  ...   1      INR    376   \n",
       "1     Ajio           SET414-KR-NP-L      Set  ...   1      INR   1449   \n",
       "\n",
       "   ship-city ship-state ship-postal-code ship-country    B2B  Year  Month  \n",
       "0     MOHALI     PUNJAB           140301           IN  False  2022     12  \n",
       "1   GURUGRAM    HARYANA           122002           IN  False  2022     12  \n",
       "\n",
       "[2 rows x 21 columns]"
      ]
     },
     "execution_count": 20,
     "metadata": {},
     "output_type": "execute_result"
    }
   ],
   "source": [
    "df.head(2)"
   ]
  },
  {
   "cell_type": "code",
   "execution_count": 21,
   "metadata": {},
   "outputs": [
    {
     "data": {
      "text/plain": [
       "2022    31047\n",
       "Name: Year, dtype: int64"
      ]
     },
     "execution_count": 21,
     "metadata": {},
     "output_type": "execute_result"
    }
   ],
   "source": [
    "df['Year'].value_counts()"
   ]
  },
  {
   "cell_type": "code",
   "execution_count": 22,
   "metadata": {},
   "outputs": [
    {
     "data": {
      "text/plain": [
       "1     2702\n",
       "2     2750\n",
       "3     2819\n",
       "4     2685\n",
       "5     2617\n",
       "6     2597\n",
       "7     2579\n",
       "8     2617\n",
       "9     2490\n",
       "10    2424\n",
       "11    2383\n",
       "12    2384\n",
       "Name: Month, dtype: int64"
      ]
     },
     "execution_count": 22,
     "metadata": {},
     "output_type": "execute_result"
    }
   ],
   "source": [
    "df['Month'].value_counts(sort=False)"
   ]
  },
  {
   "cell_type": "markdown",
   "metadata": {},
   "source": [
    "## Status Column"
   ]
  },
  {
   "cell_type": "code",
   "execution_count": 23,
   "metadata": {},
   "outputs": [
    {
     "data": {
      "text/plain": [
       "Delivered    28641\n",
       "Returned      1045\n",
       "Cancelled      844\n",
       "Refunded       517\n",
       "Name: Status, dtype: int64"
      ]
     },
     "execution_count": 23,
     "metadata": {},
     "output_type": "execute_result"
    }
   ],
   "source": [
    "df['Status'].value_counts()"
   ]
  },
  {
   "cell_type": "markdown",
   "metadata": {},
   "source": [
    "## Channel Colum"
   ]
  },
  {
   "cell_type": "code",
   "execution_count": 24,
   "metadata": {},
   "outputs": [
    {
     "data": {
      "text/plain": [
       "Index(['index', 'Order ID', 'Cust ID', 'Gender', 'Age', 'Date', 'Status',\n",
       "       'Channel ', 'SKU', 'Category', 'Size', 'Qty', 'currency', 'Amount',\n",
       "       'ship-city', 'ship-state', 'ship-postal-code', 'ship-country', 'B2B',\n",
       "       'Year', 'Month'],\n",
       "      dtype='object')"
      ]
     },
     "execution_count": 24,
     "metadata": {},
     "output_type": "execute_result"
    }
   ],
   "source": [
    "df.columns"
   ]
  },
  {
   "cell_type": "markdown",
   "metadata": {},
   "source": [
    "<hr>\n",
    "<h4> There is space in Channel column name. <br> <br>\n",
    "Will remove that first <h4>\n",
    "    <hr>"
   ]
  },
  {
   "cell_type": "code",
   "execution_count": null,
   "metadata": {},
   "outputs": [],
   "source": []
  },
  {
   "cell_type": "code",
   "execution_count": 25,
   "metadata": {},
   "outputs": [],
   "source": [
    "df.columns = df.columns.str.strip()"
   ]
  },
  {
   "cell_type": "code",
   "execution_count": 26,
   "metadata": {},
   "outputs": [
    {
     "data": {
      "text/plain": [
       "Index(['index', 'Order ID', 'Cust ID', 'Gender', 'Age', 'Date', 'Status',\n",
       "       'Channel', 'SKU', 'Category', 'Size', 'Qty', 'currency', 'Amount',\n",
       "       'ship-city', 'ship-state', 'ship-postal-code', 'ship-country', 'B2B',\n",
       "       'Year', 'Month'],\n",
       "      dtype='object')"
      ]
     },
     "execution_count": 26,
     "metadata": {},
     "output_type": "execute_result"
    }
   ],
   "source": [
    "df.columns"
   ]
  },
  {
   "cell_type": "code",
   "execution_count": 27,
   "metadata": {},
   "outputs": [
    {
     "data": {
      "text/plain": [
       "Amazon      11016\n",
       "Myntra       7254\n",
       "Flipkart     6703\n",
       "Ajio         1931\n",
       "Nalli        1484\n",
       "Meesho       1398\n",
       "Others       1261\n",
       "Name: Channel, dtype: int64"
      ]
     },
     "execution_count": 27,
     "metadata": {},
     "output_type": "execute_result"
    }
   ],
   "source": [
    "df['Channel'].value_counts()"
   ]
  },
  {
   "cell_type": "markdown",
   "metadata": {},
   "source": [
    "## Category Column"
   ]
  },
  {
   "cell_type": "code",
   "execution_count": 28,
   "metadata": {},
   "outputs": [
    {
     "data": {
      "text/plain": [
       "Set              12391\n",
       "kurta            10446\n",
       "Western Dress     4066\n",
       "Top               2193\n",
       "Saree             1380\n",
       "Ethnic Dress       264\n",
       "Blouse             229\n",
       "Bottom              78\n",
       "Name: Category, dtype: int64"
      ]
     },
     "execution_count": 28,
     "metadata": {},
     "output_type": "execute_result"
    }
   ],
   "source": [
    "df['Category'].value_counts()"
   ]
  },
  {
   "cell_type": "markdown",
   "metadata": {},
   "source": [
    "## Size Column"
   ]
  },
  {
   "cell_type": "code",
   "execution_count": 29,
   "metadata": {},
   "outputs": [
    {
     "data": {
      "text/plain": [
       "M       5485\n",
       "L       5144\n",
       "XL      4437\n",
       "S       4176\n",
       "XXL     4065\n",
       "3XL     3347\n",
       "XS      2503\n",
       "Free    1408\n",
       "6XL      208\n",
       "5XL      161\n",
       "4XL      113\n",
       "Name: Size, dtype: int64"
      ]
     },
     "execution_count": 29,
     "metadata": {},
     "output_type": "execute_result"
    }
   ],
   "source": [
    "df['Size'].value_counts()"
   ]
  },
  {
   "cell_type": "markdown",
   "metadata": {},
   "source": [
    "## Qty Column"
   ]
  },
  {
   "cell_type": "code",
   "execution_count": 30,
   "metadata": {},
   "outputs": [
    {
     "data": {
      "text/plain": [
       "1      30878\n",
       "2        114\n",
       "3         19\n",
       "Two       16\n",
       "One       13\n",
       "4          6\n",
       "5          1\n",
       "Name: Qty, dtype: int64"
      ]
     },
     "execution_count": 30,
     "metadata": {},
     "output_type": "execute_result"
    }
   ],
   "source": [
    "df['Qty'].value_counts()"
   ]
  },
  {
   "cell_type": "code",
   "execution_count": 31,
   "metadata": {},
   "outputs": [],
   "source": [
    "df2 = df.copy()"
   ]
  },
  {
   "cell_type": "code",
   "execution_count": 32,
   "metadata": {},
   "outputs": [],
   "source": [
    "df2['Qty'] = np.where(df2['Qty']=='Two',2,\n",
    "                     np.where(df2['Qty']=='One',1,\n",
    "                             df2['Qty']))"
   ]
  },
  {
   "cell_type": "code",
   "execution_count": 33,
   "metadata": {},
   "outputs": [
    {
     "data": {
      "text/plain": [
       "1    30891\n",
       "2      130\n",
       "3       19\n",
       "4        6\n",
       "5        1\n",
       "Name: Qty, dtype: int64"
      ]
     },
     "execution_count": 33,
     "metadata": {},
     "output_type": "execute_result"
    }
   ],
   "source": [
    "df2['Qty'].value_counts()"
   ]
  },
  {
   "cell_type": "code",
   "execution_count": 34,
   "metadata": {},
   "outputs": [],
   "source": [
    "df = df2.copy()"
   ]
  },
  {
   "cell_type": "code",
   "execution_count": 35,
   "metadata": {},
   "outputs": [],
   "source": [
    "del df2"
   ]
  },
  {
   "cell_type": "code",
   "execution_count": 36,
   "metadata": {},
   "outputs": [
    {
     "data": {
      "text/plain": [
       "1    30891\n",
       "2      130\n",
       "3       19\n",
       "4        6\n",
       "5        1\n",
       "Name: Qty, dtype: int64"
      ]
     },
     "execution_count": 36,
     "metadata": {},
     "output_type": "execute_result"
    }
   ],
   "source": [
    "df['Qty'].value_counts()"
   ]
  },
  {
   "cell_type": "code",
   "execution_count": 37,
   "metadata": {},
   "outputs": [
    {
     "data": {
      "text/plain": [
       "Index(['index', 'Order ID', 'Cust ID', 'Gender', 'Age', 'Date', 'Status',\n",
       "       'Channel', 'SKU', 'Category', 'Size', 'Qty', 'currency', 'Amount',\n",
       "       'ship-city', 'ship-state', 'ship-postal-code', 'ship-country', 'B2B',\n",
       "       'Year', 'Month'],\n",
       "      dtype='object')"
      ]
     },
     "execution_count": 37,
     "metadata": {},
     "output_type": "execute_result"
    }
   ],
   "source": [
    "df.columns"
   ]
  },
  {
   "cell_type": "markdown",
   "metadata": {},
   "source": [
    "## currency Column"
   ]
  },
  {
   "cell_type": "code",
   "execution_count": 38,
   "metadata": {},
   "outputs": [
    {
     "data": {
      "text/plain": [
       "INR    31047\n",
       "Name: currency, dtype: int64"
      ]
     },
     "execution_count": 38,
     "metadata": {},
     "output_type": "execute_result"
    }
   ],
   "source": [
    "df['currency'].value_counts()"
   ]
  },
  {
   "cell_type": "markdown",
   "metadata": {},
   "source": [
    "## Amount Column"
   ]
  },
  {
   "cell_type": "code",
   "execution_count": 39,
   "metadata": {},
   "outputs": [
    {
     "name": "stderr",
     "output_type": "stream",
     "text": [
      "C:\\ProgramData\\Anaconda3\\lib\\site-packages\\seaborn\\_decorators.py:36: FutureWarning: Pass the following variable as a keyword arg: x. From version 0.12, the only valid positional argument will be `data`, and passing other arguments without an explicit keyword will result in an error or misinterpretation.\n",
      "  warnings.warn(\n"
     ]
    },
    {
     "data": {
      "text/plain": [
       "<AxesSubplot:xlabel='Amount'>"
      ]
     },
     "execution_count": 39,
     "metadata": {},
     "output_type": "execute_result"
    },
    {
     "data": {
      "image/png": "[encoded data removed]",
      "text/plain": [
       "<Figure size 432x288 with 1 Axes>"
      ]
     },
     "metadata": {
      "needs_background": "light"
     },
     "output_type": "display_data"
    }
   ],
   "source": [
    "sns.boxplot(df['Amount'])"
   ]
  },
  {
   "cell_type": "code",
   "execution_count": 40,
   "metadata": {},
   "outputs": [
    {
     "data": {
      "text/plain": [
       "31047"
      ]
     },
     "execution_count": 40,
     "metadata": {},
     "output_type": "execute_result"
    }
   ],
   "source": [
    "len(df)"
   ]
  },
  {
   "cell_type": "code",
   "execution_count": 41,
   "metadata": {},
   "outputs": [
    {
     "data": {
      "text/plain": [
       "1423"
      ]
     },
     "execution_count": 41,
     "metadata": {},
     "output_type": "execute_result"
    }
   ],
   "source": [
    "len(df.loc[df['Amount']>1200])"
   ]
  },
  {
   "cell_type": "code",
   "execution_count": 42,
   "metadata": {
    "scrolled": true
   },
   "outputs": [
    {
     "data": {
      "text/html": [
       "<div>\n",
       "<style scoped>\n",
       "    .dataframe tbody tr th:only-of-type {\n",
       "        vertical-align: middle;\n",
       "    }\n",
       "\n",
       "    .dataframe tbody tr th {\n",
       "        vertical-align: top;\n",
       "    }\n",
       "\n",
       "    .dataframe thead th {\n",
       "        text-align: right;\n",
       "    }\n",
       "</style>\n",
       "<table border=\"1\" class=\"dataframe\">\n",
       "  <thead>\n",
       "    <tr style=\"text-align: right;\">\n",
       "      <th></th>\n",
       "      <th>index</th>\n",
       "      <th>Order ID</th>\n",
       "      <th>Cust ID</th>\n",
       "      <th>Gender</th>\n",
       "      <th>Age</th>\n",
       "      <th>Date</th>\n",
       "      <th>Status</th>\n",
       "      <th>Channel</th>\n",
       "      <th>SKU</th>\n",
       "      <th>Category</th>\n",
       "      <th>...</th>\n",
       "      <th>Qty</th>\n",
       "      <th>currency</th>\n",
       "      <th>Amount</th>\n",
       "      <th>ship-city</th>\n",
       "      <th>ship-state</th>\n",
       "      <th>ship-postal-code</th>\n",
       "      <th>ship-country</th>\n",
       "      <th>B2B</th>\n",
       "      <th>Year</th>\n",
       "      <th>Month</th>\n",
       "    </tr>\n",
       "  </thead>\n",
       "  <tbody>\n",
       "    <tr>\n",
       "      <th>3738</th>\n",
       "      <td>3739</td>\n",
       "      <td>405-3531176-2420307</td>\n",
       "      <td>3531176</td>\n",
       "      <td>Men</td>\n",
       "      <td>29</td>\n",
       "      <td>2022-08-04</td>\n",
       "      <td>Delivered</td>\n",
       "      <td>Amazon</td>\n",
       "      <td>SET197-KR-NP-M</td>\n",
       "      <td>Set</td>\n",
       "      <td>...</td>\n",
       "      <td>4</td>\n",
       "      <td>INR</td>\n",
       "      <td>3036</td>\n",
       "      <td>LUCKNOW</td>\n",
       "      <td>UTTAR PRADESH</td>\n",
       "      <td>226002</td>\n",
       "      <td>IN</td>\n",
       "      <td>False</td>\n",
       "      <td>2022</td>\n",
       "      <td>8</td>\n",
       "    </tr>\n",
       "  </tbody>\n",
       "</table>\n",
       "<p>1 rows × 21 columns</p>\n",
       "</div>"
      ],
      "text/plain": [
       "     index             Order ID  Cust ID Gender  Age       Date     Status  \\\n",
       "3738  3739  405-3531176-2420307  3531176    Men   29 2022-08-04  Delivered   \n",
       "\n",
       "     Channel             SKU Category  ... Qty currency Amount  ship-city  \\\n",
       "3738  Amazon  SET197-KR-NP-M      Set  ...   4      INR   3036    LUCKNOW   \n",
       "\n",
       "         ship-state ship-postal-code ship-country    B2B  Year  Month  \n",
       "3738  UTTAR PRADESH           226002           IN  False  2022      8  \n",
       "\n",
       "[1 rows x 21 columns]"
      ]
     },
     "execution_count": 42,
     "metadata": {},
     "output_type": "execute_result"
    }
   ],
   "source": [
    "df.loc[df['Amount']==df['Amount'].max()]"
   ]
  },
  {
   "cell_type": "markdown",
   "metadata": {},
   "source": [
    "## ship-city Column"
   ]
  },
  {
   "cell_type": "code",
   "execution_count": 43,
   "metadata": {},
   "outputs": [
    {
     "data": {
      "text/plain": [
       "BENGALURU    2540\n",
       "HYDERABAD    1785\n",
       "NEW DELHI    1560\n",
       "CHENNAI      1272\n",
       "MUMBAI       1224\n",
       "             ... \n",
       "Bamor           1\n",
       "IDUKKI          1\n",
       "calicut         1\n",
       "KAMAND          1\n",
       "Kullu           1\n",
       "Name: ship-city, Length: 2603, dtype: int64"
      ]
     },
     "execution_count": 43,
     "metadata": {},
     "output_type": "execute_result"
    }
   ],
   "source": [
    "df['ship-city'].value_counts()"
   ]
  },
  {
   "cell_type": "code",
   "execution_count": 44,
   "metadata": {},
   "outputs": [
    {
     "data": {
      "text/plain": [
       "Index(['index', 'Order ID', 'Cust ID', 'Gender', 'Age', 'Date', 'Status',\n",
       "       'Channel', 'SKU', 'Category', 'Size', 'Qty', 'currency', 'Amount',\n",
       "       'ship-city', 'ship-state', 'ship-postal-code', 'ship-country', 'B2B',\n",
       "       'Year', 'Month'],\n",
       "      dtype='object')"
      ]
     },
     "execution_count": 44,
     "metadata": {},
     "output_type": "execute_result"
    }
   ],
   "source": [
    "df.columns"
   ]
  },
  {
   "cell_type": "markdown",
   "metadata": {},
   "source": [
    "## ship-state Column"
   ]
  },
  {
   "cell_type": "code",
   "execution_count": 45,
   "metadata": {},
   "outputs": [
    {
     "data": {
      "text/plain": [
       "50"
      ]
     },
     "execution_count": 45,
     "metadata": {},
     "output_type": "execute_result"
    }
   ],
   "source": [
    "len(df['ship-state'].value_counts())"
   ]
  },
  {
   "cell_type": "code",
   "execution_count": 46,
   "metadata": {},
   "outputs": [
    {
     "data": {
      "text/plain": [
       "MAHARASHTRA           4519\n",
       "KARNATAKA             3988\n",
       "UTTAR PRADESH         2882\n",
       "TAMIL NADU            2679\n",
       "TELANGANA             2527\n",
       "DELHI                 1804\n",
       "KERALA                1549\n",
       "WEST BENGAL           1425\n",
       "ANDHRA PRADESH        1369\n",
       "HARYANA               1118\n",
       "GUJARAT               1058\n",
       "MADHYA PRADESH         767\n",
       "RAJASTHAN              753\n",
       "BIHAR                  572\n",
       "ODISHA                 571\n",
       "PUNJAB                 497\n",
       "ASSAM                  479\n",
       "UTTARAKHAND            453\n",
       "JHARKHAND              356\n",
       "GOA                    299\n",
       "CHHATTISGARH           246\n",
       "JAMMU & KASHMIR        214\n",
       "HIMACHAL PRADESH       197\n",
       "MANIPUR                100\n",
       "CHANDIGARH              89\n",
       "PUDUCHERRY              78\n",
       "ANDAMAN & NICOBAR       72\n",
       "SIKKIM                  71\n",
       "NAGALAND                50\n",
       "TRIPURA                 47\n",
       "ARUNACHAL PRADESH       45\n",
       "MEGHALAYA               40\n",
       "Delhi                   26\n",
       "DADRA AND NAGAR         21\n",
       "MIZORAM                 20\n",
       "LADAKH                  16\n",
       "New Delhi               10\n",
       "Bihar                    8\n",
       "Punjab                   8\n",
       "Goa                      4\n",
       "delhi                    3\n",
       "Chandigarh               3\n",
       "goa                      3\n",
       "punjab                   3\n",
       "Arunachal pradesh        2\n",
       "Arunachal Pradesh        2\n",
       "Manipur                  1\n",
       "bihar                    1\n",
       "Sikkim                   1\n",
       "Nagaland                 1\n",
       "Name: ship-state, dtype: int64"
      ]
     },
     "execution_count": 46,
     "metadata": {},
     "output_type": "execute_result"
    }
   ],
   "source": [
    "df['ship-state'].value_counts()"
   ]
  },
  {
   "cell_type": "code",
   "execution_count": 47,
   "metadata": {},
   "outputs": [
    {
     "data": {
      "text/plain": [
       "MAHARASHTRA           False\n",
       "KARNATAKA             False\n",
       "UTTAR PRADESH         False\n",
       "TAMIL NADU            False\n",
       "TELANGANA             False\n",
       "DELHI                 False\n",
       "KERALA                False\n",
       "WEST BENGAL           False\n",
       "ANDHRA PRADESH        False\n",
       "HARYANA               False\n",
       "GUJARAT               False\n",
       "MADHYA PRADESH        False\n",
       "RAJASTHAN             False\n",
       "BIHAR                 False\n",
       "ODISHA                False\n",
       "PUNJAB                False\n",
       "ASSAM                 False\n",
       "UTTARAKHAND           False\n",
       "JHARKHAND             False\n",
       "GOA                   False\n",
       "CHHATTISGARH          False\n",
       "JAMMU & KASHMIR       False\n",
       "HIMACHAL PRADESH      False\n",
       "MANIPUR               False\n",
       "CHANDIGARH            False\n",
       "PUDUCHERRY            False\n",
       "ANDAMAN & NICOBAR     False\n",
       "SIKKIM                False\n",
       "NAGALAND              False\n",
       "TRIPURA               False\n",
       "ARUNACHAL PRADESH     False\n",
       "MEGHALAYA             False\n",
       "Delhi                 False\n",
       "DADRA AND NAGAR       False\n",
       "MIZORAM               False\n",
       "LADAKH                False\n",
       "New Delhi             False\n",
       "Bihar                 False\n",
       "Punjab                 True\n",
       "Goa                   False\n",
       "delhi                 False\n",
       "Chandigarh             True\n",
       "goa                    True\n",
       "punjab                 True\n",
       "Arunachal pradesh     False\n",
       "Arunachal Pradesh      True\n",
       "Manipur               False\n",
       "bihar                  True\n",
       "Sikkim                 True\n",
       "Nagaland               True\n",
       "Name: ship-state, dtype: bool"
      ]
     },
     "execution_count": 47,
     "metadata": {},
     "output_type": "execute_result"
    }
   ],
   "source": [
    "df['ship-state'].value_counts().duplicated()"
   ]
  },
  {
   "cell_type": "code",
   "execution_count": 48,
   "metadata": {},
   "outputs": [
    {
     "name": "stdout",
     "output_type": "stream",
     "text": [
      "Index(['MAHARASHTRA', 'KARNATAKA', 'UTTAR PRADESH', 'TAMIL NADU', 'TELANGANA',\n",
      "       'DELHI', 'KERALA', 'WEST BENGAL', 'ANDHRA PRADESH', 'HARYANA',\n",
      "       'GUJARAT', 'MADHYA PRADESH', 'RAJASTHAN', 'BIHAR', 'ODISHA', 'PUNJAB',\n",
      "       'ASSAM', 'UTTARAKHAND', 'JHARKHAND', 'GOA', 'CHHATTISGARH',\n",
      "       'JAMMU & KASHMIR', 'HIMACHAL PRADESH', 'MANIPUR', 'CHANDIGARH',\n",
      "       'PUDUCHERRY', 'ANDAMAN & NICOBAR ', 'SIKKIM', 'NAGALAND', 'TRIPURA',\n",
      "       'ARUNACHAL PRADESH', 'MEGHALAYA', 'Delhi', 'DADRA AND NAGAR', 'MIZORAM',\n",
      "       'LADAKH', 'New Delhi', 'Bihar', 'Punjab', 'Goa', 'delhi', 'Chandigarh',\n",
      "       'goa', 'punjab', 'Arunachal pradesh', 'Arunachal Pradesh', 'Manipur',\n",
      "       'bihar', 'Sikkim', 'Nagaland'],\n",
      "      dtype='object')\n"
     ]
    }
   ],
   "source": [
    "print(df['ship-state'].value_counts().index)"
   ]
  },
  {
   "cell_type": "code",
   "execution_count": 49,
   "metadata": {},
   "outputs": [
    {
     "data": {
      "text/plain": [
       "MAHARASHTRA           False\n",
       "KARNATAKA             False\n",
       "UTTAR PRADESH         False\n",
       "TAMIL NADU            False\n",
       "TELANGANA             False\n",
       "DELHI                 False\n",
       "KERALA                False\n",
       "WEST BENGAL           False\n",
       "ANDHRA PRADESH        False\n",
       "HARYANA               False\n",
       "GUJARAT               False\n",
       "MADHYA PRADESH        False\n",
       "RAJASTHAN             False\n",
       "BIHAR                 False\n",
       "ODISHA                False\n",
       "PUNJAB                False\n",
       "ASSAM                 False\n",
       "UTTARAKHAND           False\n",
       "JHARKHAND             False\n",
       "GOA                   False\n",
       "CHHATTISGARH          False\n",
       "JAMMU & KASHMIR       False\n",
       "HIMACHAL PRADESH      False\n",
       "MANIPUR               False\n",
       "CHANDIGARH            False\n",
       "PUDUCHERRY            False\n",
       "ANDAMAN & NICOBAR     False\n",
       "SIKKIM                False\n",
       "NAGALAND              False\n",
       "TRIPURA               False\n",
       "ARUNACHAL PRADESH     False\n",
       "MEGHALAYA             False\n",
       "Delhi                 False\n",
       "DADRA AND NAGAR       False\n",
       "MIZORAM               False\n",
       "LADAKH                False\n",
       "New Delhi             False\n",
       "Bihar                 False\n",
       "Punjab                 True\n",
       "Goa                   False\n",
       "delhi                 False\n",
       "Chandigarh             True\n",
       "goa                    True\n",
       "punjab                 True\n",
       "Arunachal pradesh     False\n",
       "Arunachal Pradesh      True\n",
       "Manipur               False\n",
       "bihar                  True\n",
       "Sikkim                 True\n",
       "Nagaland               True\n",
       "Name: ship-state, dtype: bool"
      ]
     },
     "execution_count": 49,
     "metadata": {},
     "output_type": "execute_result"
    }
   ],
   "source": [
    "df['ship-state'].value_counts().duplicated()"
   ]
  },
  {
   "cell_type": "markdown",
   "metadata": {},
   "source": [
    "<hr>\n",
    "<h4> In india there are 28 states and 8 union territories so total should be 36 <br> <br>\n",
    "    But here we get total 50 which is incorrect\n",
    "Will correct that first <h4>\n",
    "    <hr>"
   ]
  },
  {
   "cell_type": "code",
   "execution_count": 50,
   "metadata": {},
   "outputs": [],
   "source": [
    "df['ship-state'] = df['ship-state'].str.upper() "
   ]
  },
  {
   "cell_type": "code",
   "execution_count": 51,
   "metadata": {},
   "outputs": [
    {
     "name": "stdout",
     "output_type": "stream",
     "text": [
      "Total States =  36\n"
     ]
    },
    {
     "data": {
      "text/plain": [
       "MAHARASHTRA           4519\n",
       "KARNATAKA             3988\n",
       "UTTAR PRADESH         2882\n",
       "TAMIL NADU            2679\n",
       "TELANGANA             2527\n",
       "DELHI                 1833\n",
       "KERALA                1549\n",
       "WEST BENGAL           1425\n",
       "ANDHRA PRADESH        1369\n",
       "HARYANA               1118\n",
       "GUJARAT               1058\n",
       "MADHYA PRADESH         767\n",
       "RAJASTHAN              753\n",
       "BIHAR                  581\n",
       "ODISHA                 571\n",
       "PUNJAB                 508\n",
       "ASSAM                  479\n",
       "UTTARAKHAND            453\n",
       "JHARKHAND              356\n",
       "GOA                    306\n",
       "CHHATTISGARH           246\n",
       "JAMMU & KASHMIR        214\n",
       "HIMACHAL PRADESH       197\n",
       "MANIPUR                101\n",
       "CHANDIGARH              92\n",
       "PUDUCHERRY              78\n",
       "SIKKIM                  72\n",
       "ANDAMAN & NICOBAR       72\n",
       "NAGALAND                51\n",
       "ARUNACHAL PRADESH       49\n",
       "TRIPURA                 47\n",
       "MEGHALAYA               40\n",
       "DADRA AND NAGAR         21\n",
       "MIZORAM                 20\n",
       "LADAKH                  16\n",
       "NEW DELHI               10\n",
       "Name: ship-state, dtype: int64"
      ]
     },
     "execution_count": 51,
     "metadata": {},
     "output_type": "execute_result"
    }
   ],
   "source": [
    "print(\"Total States = \",len(df['ship-state'].value_counts()))\n",
    "df['ship-state'].value_counts()"
   ]
  },
  {
   "cell_type": "markdown",
   "metadata": {},
   "source": [
    "<h4> Now the value count is 36 which is correct 28 states + 8 UT <h4>"
   ]
  },
  {
   "cell_type": "markdown",
   "metadata": {},
   "source": [
    "## ship-postal-code Column"
   ]
  },
  {
   "cell_type": "code",
   "execution_count": 52,
   "metadata": {},
   "outputs": [
    {
     "data": {
      "text/plain": [
       "201301    230\n",
       "122001    179\n",
       "560037    172\n",
       "248001    130\n",
       "560068    122\n",
       "         ... \n",
       "148023      1\n",
       "445307      1\n",
       "581332      1\n",
       "209863      1\n",
       "534239      1\n",
       "Name: ship-postal-code, Length: 4958, dtype: int64"
      ]
     },
     "execution_count": 52,
     "metadata": {},
     "output_type": "execute_result"
    }
   ],
   "source": [
    "df['ship-postal-code'].value_counts()"
   ]
  },
  {
   "cell_type": "code",
   "execution_count": 53,
   "metadata": {},
   "outputs": [
    {
     "data": {
      "text/plain": [
       "Index(['index', 'Order ID', 'Cust ID', 'Gender', 'Age', 'Date', 'Status',\n",
       "       'Channel', 'SKU', 'Category', 'Size', 'Qty', 'currency', 'Amount',\n",
       "       'ship-city', 'ship-state', 'ship-postal-code', 'ship-country', 'B2B',\n",
       "       'Year', 'Month'],\n",
       "      dtype='object')"
      ]
     },
     "execution_count": 53,
     "metadata": {},
     "output_type": "execute_result"
    }
   ],
   "source": [
    "df.columns"
   ]
  },
  {
   "cell_type": "markdown",
   "metadata": {},
   "source": [
    "## ship-country Column"
   ]
  },
  {
   "cell_type": "code",
   "execution_count": 54,
   "metadata": {},
   "outputs": [
    {
     "data": {
      "text/plain": [
       "IN    31047\n",
       "Name: ship-country, dtype: int64"
      ]
     },
     "execution_count": 54,
     "metadata": {},
     "output_type": "execute_result"
    }
   ],
   "source": [
    "df['ship-country'].value_counts()"
   ]
  },
  {
   "cell_type": "markdown",
   "metadata": {},
   "source": [
    "## B2B Column"
   ]
  },
  {
   "cell_type": "code",
   "execution_count": 55,
   "metadata": {},
   "outputs": [
    {
     "data": {
      "text/plain": [
       "False    30861\n",
       "True       186\n",
       "Name: B2B, dtype: int64"
      ]
     },
     "execution_count": 55,
     "metadata": {},
     "output_type": "execute_result"
    }
   ],
   "source": [
    "df['B2B'].value_counts()"
   ]
  },
  {
   "cell_type": "markdown",
   "metadata": {},
   "source": [
    "## Year & Month columns are created by me for my study.\n",
    "## So need to preprocess again"
   ]
  },
  {
   "cell_type": "code",
   "execution_count": 56,
   "metadata": {},
   "outputs": [
    {
     "data": {
      "text/plain": [
       "index               31047\n",
       "Order ID            28471\n",
       "Cust ID             28437\n",
       "Gender                  2\n",
       "Age                    61\n",
       "Date                   36\n",
       "Status                  4\n",
       "Channel                 7\n",
       "SKU                  5287\n",
       "Category                8\n",
       "Size                   11\n",
       "Qty                     5\n",
       "currency                1\n",
       "Amount                769\n",
       "ship-city            2603\n",
       "ship-state             36\n",
       "ship-postal-code     4958\n",
       "ship-country            1\n",
       "B2B                     2\n",
       "Year                    1\n",
       "Month                  12\n",
       "dtype: int64"
      ]
     },
     "execution_count": 56,
     "metadata": {},
     "output_type": "execute_result"
    }
   ],
   "source": [
    "df.nunique()"
   ]
  },
  {
   "cell_type": "markdown",
   "metadata": {},
   "source": [
    "## Extra Preprocessing \n",
    "\n",
    "## Adding Age Group Column To Category Ages"
   ]
  },
  {
   "cell_type": "code",
   "execution_count": 57,
   "metadata": {},
   "outputs": [
    {
     "data": {
      "text/plain": [
       "Index(['index', 'Order ID', 'Cust ID', 'Gender', 'Age', 'Date', 'Status',\n",
       "       'Channel', 'SKU', 'Category', 'Size', 'Qty', 'currency', 'Amount',\n",
       "       'ship-city', 'ship-state', 'ship-postal-code', 'ship-country', 'B2B',\n",
       "       'Year', 'Month'],\n",
       "      dtype='object')"
      ]
     },
     "execution_count": 57,
     "metadata": {},
     "output_type": "execute_result"
    }
   ],
   "source": [
    "df.columns"
   ]
  },
  {
   "cell_type": "code",
   "execution_count": 58,
   "metadata": {},
   "outputs": [],
   "source": [
    "bins = [0, 12, 19, 35, 50, 65, 100]\n",
    "labels = ['Child', 'Teen', 'Young Adult', 'Adult', 'Middle Age', 'Senior']"
   ]
  },
  {
   "cell_type": "code",
   "execution_count": 59,
   "metadata": {},
   "outputs": [],
   "source": [
    "df['Age-Group'] = pd.cut(df['Age'],bins=bins,labels=labels, right=False)"
   ]
  },
  {
   "cell_type": "code",
   "execution_count": 60,
   "metadata": {},
   "outputs": [
    {
     "data": {
      "text/html": [
       "<div>\n",
       "<style scoped>\n",
       "    .dataframe tbody tr th:only-of-type {\n",
       "        vertical-align: middle;\n",
       "    }\n",
       "\n",
       "    .dataframe tbody tr th {\n",
       "        vertical-align: top;\n",
       "    }\n",
       "\n",
       "    .dataframe thead th {\n",
       "        text-align: right;\n",
       "    }\n",
       "</style>\n",
       "<table border=\"1\" class=\"dataframe\">\n",
       "  <thead>\n",
       "    <tr style=\"text-align: right;\">\n",
       "      <th></th>\n",
       "      <th>Age</th>\n",
       "      <th>Age-Group</th>\n",
       "    </tr>\n",
       "  </thead>\n",
       "  <tbody>\n",
       "    <tr>\n",
       "      <th>0</th>\n",
       "      <td>44</td>\n",
       "      <td>Adult</td>\n",
       "    </tr>\n",
       "    <tr>\n",
       "      <th>1</th>\n",
       "      <td>29</td>\n",
       "      <td>Young Adult</td>\n",
       "    </tr>\n",
       "    <tr>\n",
       "      <th>2</th>\n",
       "      <td>67</td>\n",
       "      <td>Senior</td>\n",
       "    </tr>\n",
       "    <tr>\n",
       "      <th>3</th>\n",
       "      <td>20</td>\n",
       "      <td>Young Adult</td>\n",
       "    </tr>\n",
       "    <tr>\n",
       "      <th>4</th>\n",
       "      <td>62</td>\n",
       "      <td>Middle Age</td>\n",
       "    </tr>\n",
       "  </tbody>\n",
       "</table>\n",
       "</div>"
      ],
      "text/plain": [
       "   Age    Age-Group\n",
       "0   44        Adult\n",
       "1   29  Young Adult\n",
       "2   67       Senior\n",
       "3   20  Young Adult\n",
       "4   62   Middle Age"
      ]
     },
     "execution_count": 60,
     "metadata": {},
     "output_type": "execute_result"
    }
   ],
   "source": [
    "df.loc[:,('Age','Age-Group')].head()"
   ]
  },
  {
   "cell_type": "code",
   "execution_count": 61,
   "metadata": {},
   "outputs": [
    {
     "name": "stdout",
     "output_type": "stream",
     "text": [
      "Index(['index', 'Order ID', 'Cust ID', 'Gender', 'Age', 'Date', 'Status',\n",
      "       'Channel', 'SKU', 'Category', 'Size', 'Qty', 'currency', 'Amount',\n",
      "       'ship-city', 'ship-state', 'ship-postal-code', 'ship-country', 'B2B',\n",
      "       'Year', 'Month', 'Age-Group'],\n",
      "      dtype='object')\n"
     ]
    }
   ],
   "source": [
    "print(df.columns)"
   ]
  },
  {
   "cell_type": "code",
   "execution_count": null,
   "metadata": {},
   "outputs": [],
   "source": []
  },
  {
   "cell_type": "markdown",
   "metadata": {},
   "source": [
    "## Expolaratory Data Analysis"
   ]
  },
  {
   "cell_type": "code",
   "execution_count": 62,
   "metadata": {},
   "outputs": [
    {
     "data": {
      "text/plain": [
       "31047"
      ]
     },
     "execution_count": 62,
     "metadata": {},
     "output_type": "execute_result"
    }
   ],
   "source": [
    "len(df)"
   ]
  },
  {
   "cell_type": "code",
   "execution_count": 63,
   "metadata": {},
   "outputs": [],
   "source": [
    "xv = df['Gender'].value_counts().index\n",
    "yv = df['Gender'].value_counts().values"
   ]
  },
  {
   "cell_type": "code",
   "execution_count": 64,
   "metadata": {},
   "outputs": [
    {
     "data": {
      "text/plain": [
       "<BarContainer object of 2 artists>"
      ]
     },
     "execution_count": 64,
     "metadata": {},
     "output_type": "execute_result"
    },
    {
     "data": {
      "image/png": "[encoded data removed]",
      "text/plain": [
       "<Figure size 432x288 with 1 Axes>"
      ]
     },
     "metadata": {
      "needs_background": "light"
     },
     "output_type": "display_data"
    }
   ],
   "source": [
    "plt.bar(xv,yv)"
   ]
  },
  {
   "cell_type": "code",
   "execution_count": 65,
   "metadata": {},
   "outputs": [
    {
     "name": "stderr",
     "output_type": "stream",
     "text": [
      "C:\\ProgramData\\Anaconda3\\lib\\site-packages\\seaborn\\_decorators.py:36: FutureWarning: Pass the following variable as a keyword arg: x. From version 0.12, the only valid positional argument will be `data`, and passing other arguments without an explicit keyword will result in an error or misinterpretation.\n",
      "  warnings.warn(\n"
     ]
    },
    {
     "data": {
      "image/png": "[encoded data removed]",
      "text/plain": [
       "<Figure size 432x288 with 1 Axes>"
      ]
     },
     "metadata": {
      "needs_background": "light"
     },
     "output_type": "display_data"
    }
   ],
   "source": [
    "plt.title('Gender Counts')\n",
    "sns.countplot(df['Gender'])\n",
    "plt.show()"
   ]
  },
  {
   "cell_type": "code",
   "execution_count": 66,
   "metadata": {},
   "outputs": [
    {
     "data": {
      "text/plain": [
       "<AxesSubplot:xlabel='Age-Group', ylabel='count'>"
      ]
     },
     "execution_count": 66,
     "metadata": {},
     "output_type": "execute_result"
    },
    {
     "data": {
      "image/png": "[encoded data removed]",
      "text/plain": [
       "<Figure size 432x288 with 1 Axes>"
      ]
     },
     "metadata": {
      "needs_background": "light"
     },
     "output_type": "display_data"
    }
   ],
   "source": [
    "sns.countplot(data=df,x='Age-Group', hue='Gender')"
   ]
  },
  {
   "cell_type": "code",
   "execution_count": 67,
   "metadata": {},
   "outputs": [
    {
     "data": {
      "text/plain": [
       "Index(['index', 'Order ID', 'Cust ID', 'Gender', 'Age', 'Date', 'Status',\n",
       "       'Channel', 'SKU', 'Category', 'Size', 'Qty', 'currency', 'Amount',\n",
       "       'ship-city', 'ship-state', 'ship-postal-code', 'ship-country', 'B2B',\n",
       "       'Year', 'Month', 'Age-Group'],\n",
       "      dtype='object')"
      ]
     },
     "execution_count": 67,
     "metadata": {},
     "output_type": "execute_result"
    }
   ],
   "source": [
    "df.columns"
   ]
  },
  {
   "cell_type": "code",
   "execution_count": 68,
   "metadata": {},
   "outputs": [
    {
     "name": "stderr",
     "output_type": "stream",
     "text": [
      "C:\\ProgramData\\Anaconda3\\lib\\site-packages\\seaborn\\_decorators.py:36: FutureWarning: Pass the following variable as a keyword arg: x. From version 0.12, the only valid positional argument will be `data`, and passing other arguments without an explicit keyword will result in an error or misinterpretation.\n",
      "  warnings.warn(\n"
     ]
    },
    {
     "data": {
      "text/plain": [
       "<AxesSubplot:xlabel='Channel', ylabel='count'>"
      ]
     },
     "execution_count": 68,
     "metadata": {},
     "output_type": "execute_result"
    },
    {
     "data": {
      "image/png": "[encoded data removed]",
      "text/plain": [
       "<Figure size 432x288 with 1 Axes>"
      ]
     },
     "metadata": {
      "needs_background": "light"
     },
     "output_type": "display_data"
    }
   ],
   "source": [
    "sns.countplot(df['Channel'])"
   ]
  },
  {
   "cell_type": "code",
   "execution_count": null,
   "metadata": {},
   "outputs": [],
   "source": []
  },
  {
   "cell_type": "code",
   "execution_count": null,
   "metadata": {},
   "outputs": [],
   "source": []
  },
  {
   "cell_type": "code",
   "execution_count": 69,
   "metadata": {},
   "outputs": [
    {
     "name": "stderr",
     "output_type": "stream",
     "text": [
      "C:\\ProgramData\\Anaconda3\\lib\\site-packages\\seaborn\\_decorators.py:36: FutureWarning: Pass the following variable as a keyword arg: x. From version 0.12, the only valid positional argument will be `data`, and passing other arguments without an explicit keyword will result in an error or misinterpretation.\n",
      "  warnings.warn(\n"
     ]
    },
    {
     "data": {
      "image/png": "[encoded data removed]",
      "text/plain": [
       "<Figure size 720x432 with 1 Axes>"
      ]
     },
     "metadata": {
      "needs_background": "light"
     },
     "output_type": "display_data"
    }
   ],
   "source": [
    "plt.figure(figsize=(10,6))\n",
    "sns.countplot(df['Category'])\n",
    "plt.xticks(rotation=45,fontsize=12)\n",
    "plt.yticks(fontsize=12)\n",
    "plt.ylabel('Count',fontsize=13)\n",
    "plt.xlabel('Category',fontsize=13)\n",
    "plt.show()"
   ]
  },
  {
   "cell_type": "code",
   "execution_count": 70,
   "metadata": {},
   "outputs": [
    {
     "data": {
      "text/plain": [
       "Text(0, 0.5, 'Counts')"
      ]
     },
     "execution_count": 70,
     "metadata": {},
     "output_type": "execute_result"
    },
    {
     "data": {
      "image/png": "[encoded data removed]",
      "text/plain": [
       "<Figure size 432x288 with 1 Axes>"
      ]
     },
     "metadata": {
      "needs_background": "light"
     },
     "output_type": "display_data"
    }
   ],
   "source": [
    "xv = df['Size'].value_counts().index\n",
    "yv = df['Size'].value_counts().values\n",
    "\n",
    "\n",
    "colors = sns.color_palette('husl',len(xv))\n",
    "plt.bar(x=xv,height=yv,color=colors)\n",
    "\n",
    "plt.title('Size Bar')\n",
    "plt.xlabel('Sizes')\n",
    "plt.ylabel('Counts')"
   ]
  },
  {
   "cell_type": "code",
   "execution_count": 71,
   "metadata": {},
   "outputs": [
    {
     "data": {
      "text/plain": [
       "Index(['index', 'Order ID', 'Cust ID', 'Gender', 'Age', 'Date', 'Status',\n",
       "       'Channel', 'SKU', 'Category', 'Size', 'Qty', 'currency', 'Amount',\n",
       "       'ship-city', 'ship-state', 'ship-postal-code', 'ship-country', 'B2B',\n",
       "       'Year', 'Month', 'Age-Group'],\n",
       "      dtype='object')"
      ]
     },
     "execution_count": 71,
     "metadata": {},
     "output_type": "execute_result"
    }
   ],
   "source": [
    "df.columns"
   ]
  },
  {
   "cell_type": "code",
   "execution_count": 72,
   "metadata": {},
   "outputs": [
    {
     "data": {
      "image/png": "[encoded data removed]",
      "text/plain": [
       "<Figure size 432x288 with 1 Axes>"
      ]
     },
     "metadata": {},
     "output_type": "display_data"
    }
   ],
   "source": [
    "xv = df['Status'].value_counts().index\n",
    "yv = df['Status'].value_counts().values\n",
    "\n",
    "\n",
    "colors = sns.color_palette('colorblind',len(xv))\n",
    "plt.pie(x=yv,labels=xv,colors=colors,autopct='%.2f%%')\n",
    "plt.title('Status Pie')\n",
    "plt.show()"
   ]
  },
  {
   "cell_type": "code",
   "execution_count": 73,
   "metadata": {},
   "outputs": [
    {
     "name": "stderr",
     "output_type": "stream",
     "text": [
      "No handles with labels found to put in legend.\n"
     ]
    },
    {
     "data": {
      "image/png": "[encoded data removed]",
      "text/plain": [
       "<Figure size 432x288 with 1 Axes>"
      ]
     },
     "metadata": {
      "needs_background": "light"
     },
     "output_type": "display_data"
    },
    {
     "name": "stdout",
     "output_type": "stream",
     "text": [
      "Delivered  =  92.25  %\n",
      "Returned  =  3.37  %\n",
      "Cancelled  =  2.72  %\n",
      "Refunded  =  1.67  %\n"
     ]
    }
   ],
   "source": [
    "xv = df['Status'].value_counts().index\n",
    "yv = df['Status'].value_counts().values\n",
    "\n",
    "\n",
    "colors = sns.color_palette('colorblind',len(xv))\n",
    "plt.bar(x=xv,height=yv,color=colors,)\n",
    "plt.title('Status Count')\n",
    "plt.legend()\n",
    "plt.show()\n",
    "\n",
    "vc = df['Status'].value_counts(normalize=True,ascending=False)*100\n",
    "\n",
    "for i,v in zip(vc.index,vc.values):\n",
    "    print(i ,' = ',round(v,2),' %')"
   ]
  },
  {
   "cell_type": "code",
   "execution_count": 74,
   "metadata": {},
   "outputs": [
    {
     "data": {
      "text/plain": [
       "1     2702\n",
       "2     2750\n",
       "3     2819\n",
       "4     2685\n",
       "5     2617\n",
       "6     2597\n",
       "7     2579\n",
       "8     2617\n",
       "9     2490\n",
       "10    2424\n",
       "11    2383\n",
       "12    2384\n",
       "Name: Month, dtype: int64"
      ]
     },
     "execution_count": 74,
     "metadata": {},
     "output_type": "execute_result"
    }
   ],
   "source": [
    "xv = df['Month'].value_counts(sort=False).index\n",
    "yv = df['Month'].value_counts(sort=False).values\n",
    "df['Month'].value_counts(sort=False)"
   ]
  },
  {
   "cell_type": "code",
   "execution_count": 75,
   "metadata": {},
   "outputs": [
    {
     "data": {
      "text/plain": [
       "[<matplotlib.lines.Line2D at 0xc1b4028>]"
      ]
     },
     "execution_count": 75,
     "metadata": {},
     "output_type": "execute_result"
    },
    {
     "data": {
      "image/png": "[encoded data removed]",
      "text/plain": [
       "<Figure size 432x288 with 1 Axes>"
      ]
     },
     "metadata": {
      "needs_background": "light"
     },
     "output_type": "display_data"
    }
   ],
   "source": [
    "plt.plot(xv,yv)"
   ]
  },
  {
   "cell_type": "code",
   "execution_count": 76,
   "metadata": {},
   "outputs": [
    {
     "data": {
      "text/plain": [
       "Index(['index', 'Order ID', 'Cust ID', 'Gender', 'Age', 'Date', 'Status',\n",
       "       'Channel', 'SKU', 'Category', 'Size', 'Qty', 'currency', 'Amount',\n",
       "       'ship-city', 'ship-state', 'ship-postal-code', 'ship-country', 'B2B',\n",
       "       'Year', 'Month', 'Age-Group'],\n",
       "      dtype='object')"
      ]
     },
     "execution_count": 76,
     "metadata": {},
     "output_type": "execute_result"
    }
   ],
   "source": [
    "df.columns"
   ]
  },
  {
   "cell_type": "code",
   "execution_count": 77,
   "metadata": {},
   "outputs": [
    {
     "data": {
      "text/html": [
       "<div>\n",
       "<style scoped>\n",
       "    .dataframe tbody tr th:only-of-type {\n",
       "        vertical-align: middle;\n",
       "    }\n",
       "\n",
       "    .dataframe tbody tr th {\n",
       "        vertical-align: top;\n",
       "    }\n",
       "\n",
       "    .dataframe thead th {\n",
       "        text-align: right;\n",
       "    }\n",
       "</style>\n",
       "<table border=\"1\" class=\"dataframe\">\n",
       "  <thead>\n",
       "    <tr style=\"text-align: right;\">\n",
       "      <th></th>\n",
       "      <th>Age</th>\n",
       "      <th>Amount</th>\n",
       "      <th>B2B</th>\n",
       "      <th>Year</th>\n",
       "      <th>Month</th>\n",
       "    </tr>\n",
       "    <tr>\n",
       "      <th>Category</th>\n",
       "      <th></th>\n",
       "      <th></th>\n",
       "      <th></th>\n",
       "      <th></th>\n",
       "      <th></th>\n",
       "    </tr>\n",
       "  </thead>\n",
       "  <tbody>\n",
       "    <tr>\n",
       "      <th>Blouse</th>\n",
       "      <td>38.510917</td>\n",
       "      <td>615.231441</td>\n",
       "      <td>0.008734</td>\n",
       "      <td>2022.0</td>\n",
       "      <td>6.759825</td>\n",
       "    </tr>\n",
       "    <tr>\n",
       "      <th>Bottom</th>\n",
       "      <td>39.205128</td>\n",
       "      <td>356.461538</td>\n",
       "      <td>0.000000</td>\n",
       "      <td>2022.0</td>\n",
       "      <td>6.807692</td>\n",
       "    </tr>\n",
       "    <tr>\n",
       "      <th>Ethnic Dress</th>\n",
       "      <td>40.469697</td>\n",
       "      <td>739.606061</td>\n",
       "      <td>0.011364</td>\n",
       "      <td>2022.0</td>\n",
       "      <td>6.659091</td>\n",
       "    </tr>\n",
       "    <tr>\n",
       "      <th>Saree</th>\n",
       "      <td>40.278261</td>\n",
       "      <td>732.225362</td>\n",
       "      <td>0.002899</td>\n",
       "      <td>2022.0</td>\n",
       "      <td>6.982609</td>\n",
       "    </tr>\n",
       "    <tr>\n",
       "      <th>Set</th>\n",
       "      <td>39.573642</td>\n",
       "      <td>847.998225</td>\n",
       "      <td>0.005488</td>\n",
       "      <td>2022.0</td>\n",
       "      <td>6.197159</td>\n",
       "    </tr>\n",
       "    <tr>\n",
       "      <th>Top</th>\n",
       "      <td>39.351117</td>\n",
       "      <td>540.902417</td>\n",
       "      <td>0.006384</td>\n",
       "      <td>2022.0</td>\n",
       "      <td>6.499772</td>\n",
       "    </tr>\n",
       "    <tr>\n",
       "      <th>Western Dress</th>\n",
       "      <td>39.348008</td>\n",
       "      <td>774.430890</td>\n",
       "      <td>0.006640</td>\n",
       "      <td>2022.0</td>\n",
       "      <td>6.604525</td>\n",
       "    </tr>\n",
       "    <tr>\n",
       "      <th>kurta</th>\n",
       "      <td>39.389431</td>\n",
       "      <td>474.763259</td>\n",
       "      <td>0.006510</td>\n",
       "      <td>2022.0</td>\n",
       "      <td>6.237411</td>\n",
       "    </tr>\n",
       "  </tbody>\n",
       "</table>\n",
       "</div>"
      ],
      "text/plain": [
       "                     Age      Amount       B2B    Year     Month\n",
       "Category                                                        \n",
       "Blouse         38.510917  615.231441  0.008734  2022.0  6.759825\n",
       "Bottom         39.205128  356.461538  0.000000  2022.0  6.807692\n",
       "Ethnic Dress   40.469697  739.606061  0.011364  2022.0  6.659091\n",
       "Saree          40.278261  732.225362  0.002899  2022.0  6.982609\n",
       "Set            39.573642  847.998225  0.005488  2022.0  6.197159\n",
       "Top            39.351117  540.902417  0.006384  2022.0  6.499772\n",
       "Western Dress  39.348008  774.430890  0.006640  2022.0  6.604525\n",
       "kurta          39.389431  474.763259  0.006510  2022.0  6.237411"
      ]
     },
     "execution_count": 77,
     "metadata": {},
     "output_type": "execute_result"
    }
   ],
   "source": [
    "df.groupby(by='Category').mean()"
   ]
  },
  {
   "cell_type": "code",
   "execution_count": 78,
   "metadata": {},
   "outputs": [
    {
     "data": {
      "text/plain": [
       "Category\n",
       "Blouse           615.231441\n",
       "Bottom           356.461538\n",
       "Ethnic Dress     739.606061\n",
       "Saree            732.225362\n",
       "Set              847.998225\n",
       "Top              540.902417\n",
       "Western Dress    774.430890\n",
       "kurta            474.763259\n",
       "Name: Amount, dtype: float64"
      ]
     },
     "execution_count": 78,
     "metadata": {},
     "output_type": "execute_result"
    }
   ],
   "source": [
    "df.groupby(by='Category').mean()['Amount']"
   ]
  },
  {
   "cell_type": "code",
   "execution_count": 79,
   "metadata": {},
   "outputs": [
    {
     "data": {
      "text/plain": [
       "Category       Gender\n",
       "Blouse         Men          5331\n",
       "               Women      135557\n",
       "Bottom         Men         16312\n",
       "               Women       11492\n",
       "Ethnic Dress   Men        132073\n",
       "               Women       63183\n",
       "Saree          Men        217293\n",
       "               Women      793178\n",
       "Set            Men       4333954\n",
       "               Women     6173592\n",
       "Top            Men         27650\n",
       "               Women     1158549\n",
       "Western Dress  Men       2797391\n",
       "               Women      351445\n",
       "kurta          Men         83600\n",
       "               Women     4875777\n",
       "Name: Amount, dtype: int64"
      ]
     },
     "execution_count": 79,
     "metadata": {},
     "output_type": "execute_result"
    }
   ],
   "source": [
    "df_grp = df.groupby(by=['Category','Gender']).sum()['Amount']\n",
    "df_grp"
   ]
  },
  {
   "cell_type": "code",
   "execution_count": 80,
   "metadata": {},
   "outputs": [],
   "source": [
    "df_grp.index = [i+' '+j for i,j in df_grp.index]"
   ]
  },
  {
   "cell_type": "code",
   "execution_count": 81,
   "metadata": {},
   "outputs": [
    {
     "data": {
      "text/plain": [
       "Blouse Men                5331\n",
       "Blouse Women            135557\n",
       "Bottom Men               16312\n",
       "Bottom Women             11492\n",
       "Ethnic Dress Men        132073\n",
       "Ethnic Dress Women       63183\n",
       "Saree Men               217293\n",
       "Saree Women             793178\n",
       "Set Men                4333954\n",
       "Set Women              6173592\n",
       "Top Men                  27650\n",
       "Top Women              1158549\n",
       "Western Dress Men      2797391\n",
       "Western Dress Women     351445\n",
       "kurta Men                83600\n",
       "kurta Women            4875777\n",
       "Name: Amount, dtype: int64"
      ]
     },
     "execution_count": 81,
     "metadata": {},
     "output_type": "execute_result"
    }
   ],
   "source": [
    "df_grp"
   ]
  },
  {
   "cell_type": "code",
   "execution_count": 82,
   "metadata": {},
   "outputs": [
    {
     "data": {
      "text/plain": [
       "Set Women              6173592\n",
       "kurta Women            4875777\n",
       "Set Men                4333954\n",
       "Western Dress Men      2797391\n",
       "Top Women              1158549\n",
       "Saree Women             793178\n",
       "Western Dress Women     351445\n",
       "Saree Men               217293\n",
       "Blouse Women            135557\n",
       "Ethnic Dress Men        132073\n",
       "kurta Men                83600\n",
       "Ethnic Dress Women       63183\n",
       "Top Men                  27650\n",
       "Bottom Men               16312\n",
       "Bottom Women             11492\n",
       "Blouse Men                5331\n",
       "Name: Amount, dtype: int64"
      ]
     },
     "execution_count": 82,
     "metadata": {},
     "output_type": "execute_result"
    }
   ],
   "source": [
    "df_grp.sort_values(ascending=False)"
   ]
  },
  {
   "cell_type": "code",
   "execution_count": 83,
   "metadata": {},
   "outputs": [
    {
     "data": {
      "text/plain": [
       "Index(['index', 'Order ID', 'Cust ID', 'Gender', 'Age', 'Date', 'Status',\n",
       "       'Channel', 'SKU', 'Category', 'Size', 'Qty', 'currency', 'Amount',\n",
       "       'ship-city', 'ship-state', 'ship-postal-code', 'ship-country', 'B2B',\n",
       "       'Year', 'Month', 'Age-Group'],\n",
       "      dtype='object')"
      ]
     },
     "execution_count": 83,
     "metadata": {},
     "output_type": "execute_result"
    }
   ],
   "source": [
    "df.columns"
   ]
  },
  {
   "cell_type": "code",
   "execution_count": 84,
   "metadata": {},
   "outputs": [
    {
     "data": {
      "text/plain": [
       "Channel   Age-Group  \n",
       "Ajio      Child                NaN\n",
       "          Teen             32183.0\n",
       "          Young Adult     553104.0\n",
       "          Adult           492540.0\n",
       "          Middle Age      118942.0\n",
       "          Senior          134658.0\n",
       "Amazon    Child                NaN\n",
       "          Teen            181501.0\n",
       "          Young Adult    3023305.0\n",
       "          Adult          2835562.0\n",
       "          Middle Age      738463.0\n",
       "          Senior          741102.0\n",
       "Flipkart  Child                NaN\n",
       "          Teen             98836.0\n",
       "          Young Adult    1813786.0\n",
       "          Adult          1738058.0\n",
       "          Middle Age      498223.0\n",
       "          Senior          424398.0\n",
       "Meesho    Child                NaN\n",
       "          Teen             21184.0\n",
       "          Young Adult     389260.0\n",
       "          Adult           333219.0\n",
       "          Middle Age       79853.0\n",
       "          Senior          104090.0\n",
       "Myntra    Child                NaN\n",
       "          Teen            126607.0\n",
       "          Young Adult    2014113.0\n",
       "          Adult          1861007.0\n",
       "          Middle Age      503325.0\n",
       "          Senior          436488.0\n",
       "Nalli     Child                NaN\n",
       "          Teen             25624.0\n",
       "          Young Adult     391278.0\n",
       "          Adult           395861.0\n",
       "          Middle Age      106664.0\n",
       "          Senior           95902.0\n",
       "Others    Child                NaN\n",
       "          Teen             12915.0\n",
       "          Young Adult     352971.0\n",
       "          Adult           328701.0\n",
       "          Middle Age       84729.0\n",
       "          Senior           87925.0\n",
       "Name: Amount, dtype: float64"
      ]
     },
     "execution_count": 84,
     "metadata": {},
     "output_type": "execute_result"
    }
   ],
   "source": [
    "df.groupby(by=['Channel','Age-Group']).sum()['Amount']"
   ]
  },
  {
   "cell_type": "code",
   "execution_count": 85,
   "metadata": {},
   "outputs": [
    {
     "data": {
      "text/plain": [
       "MAHARASHTRA           4519\n",
       "KARNATAKA             3988\n",
       "UTTAR PRADESH         2882\n",
       "TAMIL NADU            2679\n",
       "TELANGANA             2527\n",
       "DELHI                 1833\n",
       "KERALA                1549\n",
       "WEST BENGAL           1425\n",
       "ANDHRA PRADESH        1369\n",
       "HARYANA               1118\n",
       "GUJARAT               1058\n",
       "MADHYA PRADESH         767\n",
       "RAJASTHAN              753\n",
       "BIHAR                  581\n",
       "ODISHA                 571\n",
       "PUNJAB                 508\n",
       "ASSAM                  479\n",
       "UTTARAKHAND            453\n",
       "JHARKHAND              356\n",
       "GOA                    306\n",
       "CHHATTISGARH           246\n",
       "JAMMU & KASHMIR        214\n",
       "HIMACHAL PRADESH       197\n",
       "MANIPUR                101\n",
       "CHANDIGARH              92\n",
       "PUDUCHERRY              78\n",
       "SIKKIM                  72\n",
       "ANDAMAN & NICOBAR       72\n",
       "NAGALAND                51\n",
       "ARUNACHAL PRADESH       49\n",
       "TRIPURA                 47\n",
       "MEGHALAYA               40\n",
       "DADRA AND NAGAR         21\n",
       "MIZORAM                 20\n",
       "LADAKH                  16\n",
       "NEW DELHI               10\n",
       "Name: ship-state, dtype: int64"
      ]
     },
     "execution_count": 85,
     "metadata": {},
     "output_type": "execute_result"
    }
   ],
   "source": [
    "df['ship-state'].value_counts()"
   ]
  },
  {
   "cell_type": "code",
   "execution_count": 86,
   "metadata": {},
   "outputs": [
    {
     "data": {
      "text/plain": [
       "ship-state\n",
       "MAHARASHTRA           2990221\n",
       "KARNATAKA             2646358\n",
       "UTTAR PRADESH         2104659\n",
       "TELANGANA             1712439\n",
       "TAMIL NADU            1678877\n",
       "DELHI                 1266328\n",
       "KERALA                1008940\n",
       "WEST BENGAL            922444\n",
       "ANDHRA PRADESH         918499\n",
       "HARYANA                813320\n",
       "GUJARAT                715563\n",
       "MADHYA PRADESH         564026\n",
       "RAJASTHAN              547360\n",
       "BIHAR                  446831\n",
       "ODISHA                 414840\n",
       "PUNJAB                 368940\n",
       "UTTARAKHAND            327179\n",
       "ASSAM                  326423\n",
       "JHARKHAND              255054\n",
       "GOA                    184169\n",
       "CHHATTISGARH           174531\n",
       "JAMMU & KASHMIR        158736\n",
       "HIMACHAL PRADESH       146246\n",
       "MANIPUR                 78865\n",
       "CHANDIGARH              63059\n",
       "SIKKIM                  54916\n",
       "ANDAMAN & NICOBAR       51970\n",
       "PUDUCHERRY              48553\n",
       "NAGALAND                43510\n",
       "ARUNACHAL PRADESH       36840\n",
       "TRIPURA                 30961\n",
       "MEGHALAYA               25988\n",
       "DADRA AND NAGAR         14980\n",
       "LADAKH                  14148\n",
       "MIZORAM                 12182\n",
       "NEW DELHI                8422\n",
       "Name: Amount, dtype: int64"
      ]
     },
     "execution_count": 86,
     "metadata": {},
     "output_type": "execute_result"
    }
   ],
   "source": [
    "state_amt = df.groupby(by=['ship-state']).sum()['Amount'].sort_values(ascending=False)\n",
    "state_amt"
   ]
  },
  {
   "cell_type": "code",
   "execution_count": 87,
   "metadata": {},
   "outputs": [
    {
     "data": {
      "image/png": "[encoded data removed]",
      "text/plain": [
       "<Figure size 1008x504 with 1 Axes>"
      ]
     },
     "metadata": {
      "needs_background": "light"
     },
     "output_type": "display_data"
    }
   ],
   "source": [
    "plt.figure(figsize=(14,7))\n",
    "plt.bar(x=state_amt.index,height=state_amt.values)\n",
    "plt.xticks(rotation=90)\n",
    "plt.ylim(1000,3500000)\n",
    "plt.show()"
   ]
  },
  {
   "cell_type": "code",
   "execution_count": 88,
   "metadata": {},
   "outputs": [
    {
     "data": {
      "text/plain": [
       "Index(['index', 'Order ID', 'Cust ID', 'Gender', 'Age', 'Date', 'Status',\n",
       "       'Channel', 'SKU', 'Category', 'Size', 'Qty', 'currency', 'Amount',\n",
       "       'ship-city', 'ship-state', 'ship-postal-code', 'ship-country', 'B2B',\n",
       "       'Year', 'Month', 'Age-Group'],\n",
       "      dtype='object')"
      ]
     },
     "execution_count": 88,
     "metadata": {},
     "output_type": "execute_result"
    }
   ],
   "source": [
    "df.columns"
   ]
  },
  {
   "cell_type": "code",
   "execution_count": 91,
   "metadata": {},
   "outputs": [
    {
     "name": "stderr",
     "output_type": "stream",
     "text": [
      "C:\\ProgramData\\Anaconda3\\lib\\site-packages\\seaborn\\_decorators.py:36: FutureWarning: Pass the following variable as a keyword arg: x. From version 0.12, the only valid positional argument will be `data`, and passing other arguments without an explicit keyword will result in an error or misinterpretation.\n",
      "  warnings.warn(\n"
     ]
    },
    {
     "data": {
      "text/plain": [
       "<AxesSubplot:xlabel='Age-Group', ylabel='count'>"
      ]
     },
     "execution_count": 91,
     "metadata": {},
     "output_type": "execute_result"
    },
    {
     "data": {
      "image/png": "[encoded data removed]",
      "text/plain": [
       "<Figure size 432x288 with 1 Axes>"
      ]
     },
     "metadata": {
      "needs_background": "light"
     },
     "output_type": "display_data"
    }
   ],
   "source": [
    "sns.countplot(df['Age-Group'].sort_values())"
   ]
  },
  {
   "cell_type": "code",
   "execution_count": 102,
   "metadata": {},
   "outputs": [
    {
     "data": {
      "text/plain": [
       "Age-Group\n",
       "Young Adult    8537817\n",
       "Adult          7984948\n",
       "Middle Age     2130199\n",
       "Senior         2024563\n",
       "Teen            498850\n",
       "Child                0\n",
       "Name: Amount, dtype: int64"
      ]
     },
     "execution_count": 102,
     "metadata": {},
     "output_type": "execute_result"
    }
   ],
   "source": [
    "df.groupby(df['Age-Group'])['Amount'].sum().sort_values(ascending=False)"
   ]
  },
  {
   "cell_type": "code",
   "execution_count": 99,
   "metadata": {},
   "outputs": [
    {
     "name": "stderr",
     "output_type": "stream",
     "text": [
      "C:\\ProgramData\\Anaconda3\\lib\\site-packages\\seaborn\\_decorators.py:36: FutureWarning: Pass the following variable as a keyword arg: x. From version 0.12, the only valid positional argument will be `data`, and passing other arguments without an explicit keyword will result in an error or misinterpretation.\n",
      "  warnings.warn(\n"
     ]
    },
    {
     "data": {
      "text/plain": [
       "<AxesSubplot:xlabel='Channel', ylabel='count'>"
      ]
     },
     "execution_count": 99,
     "metadata": {},
     "output_type": "execute_result"
    },
    {
     "data": {
      "image/png": "[encoded data removed]",
      "text/plain": [
       "<Figure size 432x288 with 1 Axes>"
      ]
     },
     "metadata": {
      "needs_background": "light"
     },
     "output_type": "display_data"
    }
   ],
   "source": [
    "sns.countplot(df['Channel'],hue=df['Age-Group'])"
   ]
  },
  {
   "cell_type": "code",
   "execution_count": 107,
   "metadata": {},
   "outputs": [],
   "source": [
    "stamt = df.groupby(by=['ship-state','Age-Group'])['Amount'].sum()"
   ]
  },
  {
   "cell_type": "code",
   "execution_count": 113,
   "metadata": {},
   "outputs": [
    {
     "data": {
      "text/plain": [
       "ship-state          Age-Group  \n",
       "ANDAMAN & NICOBAR   Child               NaN\n",
       "                    Teen             2246.0\n",
       "                    Young Adult     18638.0\n",
       "                    Adult           18095.0\n",
       "                    Middle Age       4309.0\n",
       "                                     ...   \n",
       "WEST BENGAL         Teen            27513.0\n",
       "                    Young Adult    367861.0\n",
       "                    Adult          342700.0\n",
       "                    Middle Age      93276.0\n",
       "                    Senior          91094.0\n",
       "Name: Amount, Length: 216, dtype: float64"
      ]
     },
     "execution_count": 113,
     "metadata": {},
     "output_type": "execute_result"
    }
   ],
   "source": [
    "stamt"
   ]
  },
  {
   "cell_type": "code",
   "execution_count": 114,
   "metadata": {},
   "outputs": [
    {
     "data": {
      "text/plain": [
       "216"
      ]
     },
     "execution_count": 114,
     "metadata": {},
     "output_type": "execute_result"
    }
   ],
   "source": [
    "len(stamt.index)"
   ]
  },
  {
   "cell_type": "code",
   "execution_count": 115,
   "metadata": {},
   "outputs": [
    {
     "data": {
      "text/plain": [
       "216"
      ]
     },
     "execution_count": 115,
     "metadata": {},
     "output_type": "execute_result"
    }
   ],
   "source": [
    "len(stamt.values)"
   ]
  },
  {
   "cell_type": "code",
   "execution_count": 118,
   "metadata": {},
   "outputs": [
    {
     "data": {
      "text/plain": [
       "numpy.ndarray"
      ]
     },
     "execution_count": 118,
     "metadata": {},
     "output_type": "execute_result"
    }
   ],
   "source": [
    "type(stamt.values)"
   ]
  },
  {
   "cell_type": "code",
   "execution_count": 131,
   "metadata": {},
   "outputs": [
    {
     "data": {
      "text/plain": [
       "nan"
      ]
     },
     "execution_count": 131,
     "metadata": {},
     "output_type": "execute_result"
    }
   ],
   "source": [
    "stamt.values.max()"
   ]
  },
  {
   "cell_type": "markdown",
   "metadata": {},
   "source": [
    "\n",
    "<p> `NaN` values in an array can cause the `max` function to return `NaN`.\n",
    "To handle this, you can use `np.nanmax`, clean your data, or use masked arrays to ignore `NaN` values. \n",
    "Choose the method that best fits your use case.\n",
    "<p> "
   ]
  },
  {
   "cell_type": "code",
   "execution_count": 130,
   "metadata": {},
   "outputs": [
    {
     "data": {
      "text/plain": [
       "1211640.0"
      ]
     },
     "execution_count": 130,
     "metadata": {},
     "output_type": "execute_result"
    }
   ],
   "source": [
    "np.nanmax(stamt.values)"
   ]
  },
  {
   "cell_type": "code",
   "execution_count": 133,
   "metadata": {},
   "outputs": [
    {
     "name": "stdout",
     "output_type": "stream",
     "text": [
      "('WEST BENGAL', 'Senior')  =  91094.0\n"
     ]
    }
   ],
   "source": [
    "for ind,val in zip(stamt.index,stamt.values):\n",
    "    if val == np.nanmax(stamt.values):\n",
    "        print(i, ' = ',j)"
   ]
  },
  {
   "cell_type": "code",
   "execution_count": 138,
   "metadata": {},
   "outputs": [],
   "source": [
    "grouped_data = df.groupby(by=['Age-Group','ship-state'])['Amount'].sum().reset_index()"
   ]
  },
  {
   "cell_type": "code",
   "execution_count": 139,
   "metadata": {},
   "outputs": [
    {
     "data": {
      "text/html": [
       "<div>\n",
       "<style scoped>\n",
       "    .dataframe tbody tr th:only-of-type {\n",
       "        vertical-align: middle;\n",
       "    }\n",
       "\n",
       "    .dataframe tbody tr th {\n",
       "        vertical-align: top;\n",
       "    }\n",
       "\n",
       "    .dataframe thead th {\n",
       "        text-align: right;\n",
       "    }\n",
       "</style>\n",
       "<table border=\"1\" class=\"dataframe\">\n",
       "  <thead>\n",
       "    <tr style=\"text-align: right;\">\n",
       "      <th></th>\n",
       "      <th>Age-Group</th>\n",
       "      <th>ship-state</th>\n",
       "      <th>Amount</th>\n",
       "    </tr>\n",
       "  </thead>\n",
       "  <tbody>\n",
       "    <tr>\n",
       "      <th>0</th>\n",
       "      <td>Child</td>\n",
       "      <td>ANDAMAN &amp; NICOBAR</td>\n",
       "      <td>NaN</td>\n",
       "    </tr>\n",
       "    <tr>\n",
       "      <th>1</th>\n",
       "      <td>Child</td>\n",
       "      <td>ANDHRA PRADESH</td>\n",
       "      <td>NaN</td>\n",
       "    </tr>\n",
       "    <tr>\n",
       "      <th>2</th>\n",
       "      <td>Child</td>\n",
       "      <td>ARUNACHAL PRADESH</td>\n",
       "      <td>NaN</td>\n",
       "    </tr>\n",
       "    <tr>\n",
       "      <th>3</th>\n",
       "      <td>Child</td>\n",
       "      <td>ASSAM</td>\n",
       "      <td>NaN</td>\n",
       "    </tr>\n",
       "    <tr>\n",
       "      <th>4</th>\n",
       "      <td>Child</td>\n",
       "      <td>BIHAR</td>\n",
       "      <td>NaN</td>\n",
       "    </tr>\n",
       "    <tr>\n",
       "      <th>...</th>\n",
       "      <td>...</td>\n",
       "      <td>...</td>\n",
       "      <td>...</td>\n",
       "    </tr>\n",
       "    <tr>\n",
       "      <th>211</th>\n",
       "      <td>Senior</td>\n",
       "      <td>TELANGANA</td>\n",
       "      <td>173770.0</td>\n",
       "    </tr>\n",
       "    <tr>\n",
       "      <th>212</th>\n",
       "      <td>Senior</td>\n",
       "      <td>TRIPURA</td>\n",
       "      <td>4457.0</td>\n",
       "    </tr>\n",
       "    <tr>\n",
       "      <th>213</th>\n",
       "      <td>Senior</td>\n",
       "      <td>UTTAR PRADESH</td>\n",
       "      <td>177269.0</td>\n",
       "    </tr>\n",
       "    <tr>\n",
       "      <th>214</th>\n",
       "      <td>Senior</td>\n",
       "      <td>UTTARAKHAND</td>\n",
       "      <td>32968.0</td>\n",
       "    </tr>\n",
       "    <tr>\n",
       "      <th>215</th>\n",
       "      <td>Senior</td>\n",
       "      <td>WEST BENGAL</td>\n",
       "      <td>91094.0</td>\n",
       "    </tr>\n",
       "  </tbody>\n",
       "</table>\n",
       "<p>216 rows × 3 columns</p>\n",
       "</div>"
      ],
      "text/plain": [
       "    Age-Group          ship-state    Amount\n",
       "0       Child  ANDAMAN & NICOBAR        NaN\n",
       "1       Child      ANDHRA PRADESH       NaN\n",
       "2       Child   ARUNACHAL PRADESH       NaN\n",
       "3       Child               ASSAM       NaN\n",
       "4       Child               BIHAR       NaN\n",
       "..        ...                 ...       ...\n",
       "211    Senior           TELANGANA  173770.0\n",
       "212    Senior             TRIPURA    4457.0\n",
       "213    Senior       UTTAR PRADESH  177269.0\n",
       "214    Senior         UTTARAKHAND   32968.0\n",
       "215    Senior         WEST BENGAL   91094.0\n",
       "\n",
       "[216 rows x 3 columns]"
      ]
     },
     "execution_count": 139,
     "metadata": {},
     "output_type": "execute_result"
    }
   ],
   "source": [
    "grouped_data"
   ]
  },
  {
   "cell_type": "code",
   "execution_count": 141,
   "metadata": {},
   "outputs": [],
   "source": [
    "pivot_table = grouped_data.pivot(index='Age-Group',columns='ship-state',values='Amount')"
   ]
  },
  {
   "cell_type": "code",
   "execution_count": 142,
   "metadata": {},
   "outputs": [
    {
     "data": {
      "text/html": [
       "<div>\n",
       "<style scoped>\n",
       "    .dataframe tbody tr th:only-of-type {\n",
       "        vertical-align: middle;\n",
       "    }\n",
       "\n",
       "    .dataframe tbody tr th {\n",
       "        vertical-align: top;\n",
       "    }\n",
       "\n",
       "    .dataframe thead th {\n",
       "        text-align: right;\n",
       "    }\n",
       "</style>\n",
       "<table border=\"1\" class=\"dataframe\">\n",
       "  <thead>\n",
       "    <tr style=\"text-align: right;\">\n",
       "      <th>ship-state</th>\n",
       "      <th>ANDAMAN &amp; NICOBAR</th>\n",
       "      <th>ANDHRA PRADESH</th>\n",
       "      <th>ARUNACHAL PRADESH</th>\n",
       "      <th>ASSAM</th>\n",
       "      <th>BIHAR</th>\n",
       "      <th>CHANDIGARH</th>\n",
       "      <th>CHHATTISGARH</th>\n",
       "      <th>DADRA AND NAGAR</th>\n",
       "      <th>DELHI</th>\n",
       "      <th>GOA</th>\n",
       "      <th>...</th>\n",
       "      <th>PUDUCHERRY</th>\n",
       "      <th>PUNJAB</th>\n",
       "      <th>RAJASTHAN</th>\n",
       "      <th>SIKKIM</th>\n",
       "      <th>TAMIL NADU</th>\n",
       "      <th>TELANGANA</th>\n",
       "      <th>TRIPURA</th>\n",
       "      <th>UTTAR PRADESH</th>\n",
       "      <th>UTTARAKHAND</th>\n",
       "      <th>WEST BENGAL</th>\n",
       "    </tr>\n",
       "    <tr>\n",
       "      <th>Age-Group</th>\n",
       "      <th></th>\n",
       "      <th></th>\n",
       "      <th></th>\n",
       "      <th></th>\n",
       "      <th></th>\n",
       "      <th></th>\n",
       "      <th></th>\n",
       "      <th></th>\n",
       "      <th></th>\n",
       "      <th></th>\n",
       "      <th></th>\n",
       "      <th></th>\n",
       "      <th></th>\n",
       "      <th></th>\n",
       "      <th></th>\n",
       "      <th></th>\n",
       "      <th></th>\n",
       "      <th></th>\n",
       "      <th></th>\n",
       "      <th></th>\n",
       "      <th></th>\n",
       "    </tr>\n",
       "  </thead>\n",
       "  <tbody>\n",
       "    <tr>\n",
       "      <th>Child</th>\n",
       "      <td>NaN</td>\n",
       "      <td>NaN</td>\n",
       "      <td>NaN</td>\n",
       "      <td>NaN</td>\n",
       "      <td>NaN</td>\n",
       "      <td>NaN</td>\n",
       "      <td>NaN</td>\n",
       "      <td>NaN</td>\n",
       "      <td>NaN</td>\n",
       "      <td>NaN</td>\n",
       "      <td>...</td>\n",
       "      <td>NaN</td>\n",
       "      <td>NaN</td>\n",
       "      <td>NaN</td>\n",
       "      <td>NaN</td>\n",
       "      <td>NaN</td>\n",
       "      <td>NaN</td>\n",
       "      <td>NaN</td>\n",
       "      <td>NaN</td>\n",
       "      <td>NaN</td>\n",
       "      <td>NaN</td>\n",
       "    </tr>\n",
       "    <tr>\n",
       "      <th>Teen</th>\n",
       "      <td>2246.0</td>\n",
       "      <td>20412.0</td>\n",
       "      <td>NaN</td>\n",
       "      <td>8998.0</td>\n",
       "      <td>10731.0</td>\n",
       "      <td>2052.0</td>\n",
       "      <td>4880.0</td>\n",
       "      <td>NaN</td>\n",
       "      <td>32531.0</td>\n",
       "      <td>3825.0</td>\n",
       "      <td>...</td>\n",
       "      <td>NaN</td>\n",
       "      <td>5375.0</td>\n",
       "      <td>12412.0</td>\n",
       "      <td>801.0</td>\n",
       "      <td>33984.0</td>\n",
       "      <td>39118.0</td>\n",
       "      <td>518.0</td>\n",
       "      <td>51529.0</td>\n",
       "      <td>13123.0</td>\n",
       "      <td>27513.0</td>\n",
       "    </tr>\n",
       "    <tr>\n",
       "      <th>Young Adult</th>\n",
       "      <td>18638.0</td>\n",
       "      <td>364121.0</td>\n",
       "      <td>15812.0</td>\n",
       "      <td>125197.0</td>\n",
       "      <td>171160.0</td>\n",
       "      <td>24228.0</td>\n",
       "      <td>63388.0</td>\n",
       "      <td>4407.0</td>\n",
       "      <td>508022.0</td>\n",
       "      <td>79438.0</td>\n",
       "      <td>...</td>\n",
       "      <td>25468.0</td>\n",
       "      <td>157279.0</td>\n",
       "      <td>222025.0</td>\n",
       "      <td>15490.0</td>\n",
       "      <td>671613.0</td>\n",
       "      <td>702349.0</td>\n",
       "      <td>14165.0</td>\n",
       "      <td>872985.0</td>\n",
       "      <td>135116.0</td>\n",
       "      <td>367861.0</td>\n",
       "    </tr>\n",
       "    <tr>\n",
       "      <th>Adult</th>\n",
       "      <td>18095.0</td>\n",
       "      <td>363970.0</td>\n",
       "      <td>7974.0</td>\n",
       "      <td>139831.0</td>\n",
       "      <td>173436.0</td>\n",
       "      <td>26924.0</td>\n",
       "      <td>68056.0</td>\n",
       "      <td>6225.0</td>\n",
       "      <td>477404.0</td>\n",
       "      <td>72725.0</td>\n",
       "      <td>...</td>\n",
       "      <td>13349.0</td>\n",
       "      <td>134843.0</td>\n",
       "      <td>203951.0</td>\n",
       "      <td>26351.0</td>\n",
       "      <td>639265.0</td>\n",
       "      <td>622019.0</td>\n",
       "      <td>10352.0</td>\n",
       "      <td>792457.0</td>\n",
       "      <td>119630.0</td>\n",
       "      <td>342700.0</td>\n",
       "    </tr>\n",
       "    <tr>\n",
       "      <th>Middle Age</th>\n",
       "      <td>4309.0</td>\n",
       "      <td>92824.0</td>\n",
       "      <td>5785.0</td>\n",
       "      <td>30998.0</td>\n",
       "      <td>45361.0</td>\n",
       "      <td>5500.0</td>\n",
       "      <td>18354.0</td>\n",
       "      <td>1068.0</td>\n",
       "      <td>121284.0</td>\n",
       "      <td>14324.0</td>\n",
       "      <td>...</td>\n",
       "      <td>3938.0</td>\n",
       "      <td>34131.0</td>\n",
       "      <td>51872.0</td>\n",
       "      <td>9925.0</td>\n",
       "      <td>176704.0</td>\n",
       "      <td>175183.0</td>\n",
       "      <td>1469.0</td>\n",
       "      <td>210419.0</td>\n",
       "      <td>26342.0</td>\n",
       "      <td>93276.0</td>\n",
       "    </tr>\n",
       "    <tr>\n",
       "      <th>Senior</th>\n",
       "      <td>8682.0</td>\n",
       "      <td>77172.0</td>\n",
       "      <td>7269.0</td>\n",
       "      <td>21399.0</td>\n",
       "      <td>46143.0</td>\n",
       "      <td>4355.0</td>\n",
       "      <td>19853.0</td>\n",
       "      <td>3280.0</td>\n",
       "      <td>127087.0</td>\n",
       "      <td>13857.0</td>\n",
       "      <td>...</td>\n",
       "      <td>5798.0</td>\n",
       "      <td>37312.0</td>\n",
       "      <td>57100.0</td>\n",
       "      <td>2349.0</td>\n",
       "      <td>157311.0</td>\n",
       "      <td>173770.0</td>\n",
       "      <td>4457.0</td>\n",
       "      <td>177269.0</td>\n",
       "      <td>32968.0</td>\n",
       "      <td>91094.0</td>\n",
       "    </tr>\n",
       "  </tbody>\n",
       "</table>\n",
       "<p>6 rows × 36 columns</p>\n",
       "</div>"
      ],
      "text/plain": [
       "ship-state   ANDAMAN & NICOBAR   ANDHRA PRADESH  ARUNACHAL PRADESH     ASSAM  \\\n",
       "Age-Group                                                                      \n",
       "Child                       NaN             NaN                NaN       NaN   \n",
       "Teen                     2246.0         20412.0                NaN    8998.0   \n",
       "Young Adult             18638.0        364121.0            15812.0  125197.0   \n",
       "Adult                   18095.0        363970.0             7974.0  139831.0   \n",
       "Middle Age               4309.0         92824.0             5785.0   30998.0   \n",
       "Senior                   8682.0         77172.0             7269.0   21399.0   \n",
       "\n",
       "ship-state      BIHAR  CHANDIGARH  CHHATTISGARH  DADRA AND NAGAR     DELHI  \\\n",
       "Age-Group                                                                    \n",
       "Child             NaN         NaN           NaN              NaN       NaN   \n",
       "Teen          10731.0      2052.0        4880.0              NaN   32531.0   \n",
       "Young Adult  171160.0     24228.0       63388.0           4407.0  508022.0   \n",
       "Adult        173436.0     26924.0       68056.0           6225.0  477404.0   \n",
       "Middle Age    45361.0      5500.0       18354.0           1068.0  121284.0   \n",
       "Senior        46143.0      4355.0       19853.0           3280.0  127087.0   \n",
       "\n",
       "ship-state       GOA  ...  PUDUCHERRY    PUNJAB  RAJASTHAN   SIKKIM  \\\n",
       "Age-Group             ...                                             \n",
       "Child            NaN  ...         NaN       NaN        NaN      NaN   \n",
       "Teen          3825.0  ...         NaN    5375.0    12412.0    801.0   \n",
       "Young Adult  79438.0  ...     25468.0  157279.0   222025.0  15490.0   \n",
       "Adult        72725.0  ...     13349.0  134843.0   203951.0  26351.0   \n",
       "Middle Age   14324.0  ...      3938.0   34131.0    51872.0   9925.0   \n",
       "Senior       13857.0  ...      5798.0   37312.0    57100.0   2349.0   \n",
       "\n",
       "ship-state   TAMIL NADU  TELANGANA  TRIPURA  UTTAR PRADESH  UTTARAKHAND  \\\n",
       "Age-Group                                                                 \n",
       "Child               NaN        NaN      NaN            NaN          NaN   \n",
       "Teen            33984.0    39118.0    518.0        51529.0      13123.0   \n",
       "Young Adult    671613.0   702349.0  14165.0       872985.0     135116.0   \n",
       "Adult          639265.0   622019.0  10352.0       792457.0     119630.0   \n",
       "Middle Age     176704.0   175183.0   1469.0       210419.0      26342.0   \n",
       "Senior         157311.0   173770.0   4457.0       177269.0      32968.0   \n",
       "\n",
       "ship-state   WEST BENGAL  \n",
       "Age-Group                 \n",
       "Child                NaN  \n",
       "Teen             27513.0  \n",
       "Young Adult     367861.0  \n",
       "Adult           342700.0  \n",
       "Middle Age       93276.0  \n",
       "Senior           91094.0  \n",
       "\n",
       "[6 rows x 36 columns]"
      ]
     },
     "execution_count": 142,
     "metadata": {},
     "output_type": "execute_result"
    }
   ],
   "source": [
    "pivot_table"
   ]
  },
  {
   "cell_type": "code",
   "execution_count": 147,
   "metadata": {},
   "outputs": [
    {
     "data": {
      "image/png": "[encoded data removed]",
      "text/plain": [
       "<Figure size 864x576 with 2 Axes>"
      ]
     },
     "metadata": {
      "needs_background": "light"
     },
     "output_type": "display_data"
    }
   ],
   "source": [
    "plt.figure(figsize=(12,8))\n",
    "sns.heatmap(pivot_table,annot=False, fmt=\".1f\", linewidths=.5)\n",
    "\n",
    "plt.title('Total Amount Spent by Each Age Group in Each State')\n",
    "plt.xlabel('State')\n",
    "plt.ylabel('Age Group')\n",
    "\n",
    "plt.show()"
   ]
  },
  {
   "cell_type": "code",
   "execution_count": null,
   "metadata": {},
   "outputs": [],
   "source": []
  },
  {
   "cell_type": "code",
   "execution_count": null,
   "metadata": {},
   "outputs": [],
   "source": []
  }
 ],
 "metadata": {
  "kernelspec": {
   "display_name": "Python 3",
   "language": "python",
   "name": "python3"
  },
  "language_info": {
   "codemirror_mode": {
    "name": "ipython",
    "version": 3
   },
   "file_extension": ".py",
   "mimetype": "text/x-python",
   "name": "python",
   "nbconvert_exporter": "python",
   "pygments_lexer": "ipython3",
   "version": "3.8.5"
  }
 },
 "nbformat": 4,
 "nbformat_minor": 4
}
